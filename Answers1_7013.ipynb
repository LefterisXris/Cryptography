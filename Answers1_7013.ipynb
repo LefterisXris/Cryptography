{
 "cells": [
  {
   "cell_type": "markdown",
   "metadata": {
    "collapsed": false
   },
   "source": [
    "# Κρυπτογραφία\n",
    "## Ομάδα Ασκήσεων 1\n",
    "###  Ανακοίνωση Τετάρτη 16/11 - Προθεσμία Πέμπτη 22/12 \n",
    "### Γεώργιος Στεφανίδης, Σοφία Πετρίδου"
   ]
  },
  {
   "cell_type": "markdown",
   "metadata": {},
   "source": [
    "Ένα κρυπτοσύστημα ορίζεται από την πεντάδα $(\\mathcal{P, C, K, E, D})$ η οποία ικανοποιεί τις παρακάτω συνθήκες:\n",
    "* $\\mathcal{P}$ είναι το πεπερασμένο σύνολο όλων των δυνατών *μηνυμάτων* ή *απλών κειμένων*,\n",
    "* $\\mathcal{C}$ είναι το πεπερασμένο σύνολο όλων των δυνατών *κρυπτοκειμένων*,\n",
    "* $\\mathcal{K}$, ο *κλειδοχώρος*, είναι το πεπερασμένο σύνολο όλων των δυνατών κλειδιών.\n",
    "\n",
    "Για κάθε $k \\in \\mathcal{K}$, υπάρχει ένας κανόνας *κρυπτογράφησης* $e_k \\in \\mathcal{E}$ και ο αντίστοιχος κανόνας *αποκρυπτογράφησης* $d_k \\in \\mathcal{D}$. Κάθε $e_k: \\mathcal{P} \\rightarrow \\mathcal{C}$ και $d_k: \\mathcal{C} \\rightarrow \\mathcal{P}$ είναι συναρτήσεις τέτοιες, ώστε $d_k(e_k(x))=x$ για κάθε στοιχείο απλού κειμένου $x \\in \\mathcal{P}$."
   ]
  },
  {
   "cell_type": "markdown",
   "metadata": {},
   "source": [
    "### Άσκηση 1\n",
    "### Κρυπταλγόριθμος Μετατόπισης (Shift Cipher)"
   ]
  },
  {
   "cell_type": "markdown",
   "metadata": {},
   "source": [
    "Έστω $\\mathcal{P} = \\mathcal{C} = \\mathcal{K}=\\mathbb{Z}_m$. Για κάθε $0 \\leq k \\leq m$, όπου $m$ θετικός ακέραιος, ορίζουμε:\n",
    "$$e_k(p)=(p+k) \\bmod m$$\n",
    "και\n",
    "$$d_k(c)=(c-k) \\bmod m$$\n",
    "όπου $(p, c) \\in \\mathbb{Z}_m$. Μπορούμε να χρησιμοποιήσουμε τον Κρυπταλγόριθμο Μετατόπισης (με modulus $26$) για να κρυπτογραφήσουμε συνηθισμένο Αγγλικό κείμενο θέτοντας μια αντιστοιχία μεταξύ των αλφαβητικών χαρακτήρων και των κατάλοιπων modulo $26$ ως εξής: $Α \\leftrightarrow 0, Β \\leftrightarrow 1, \\ldots, Ζ \\leftrightarrow 25$.\n",
    "\n",
    "1. Ας υποθέσουμε ότι το κλειδί ενός κρυπταλγόριθμου μετατόπισης είναι το $k=13$, και το απλό κείμενο είναι:\n",
    "$$ALICE OPENED THE DOOR AND FOUND THAT IT LED INTO \\\\ A SMALL PASSAGE NOT MUCH LARGER THAN A RAT HOLE$$\n",
    "Ποιό είναι το κρυπτοκείμενο;\n",
    "\n",
    "2. Αποκρυπτογραφήστε τα παρακάτω κρυπτοκείμενα λαμβάνοντας υπόψη το αντίστοιχο κλειδί:\n",
    "    * GTDTEZYESPHPPVPYOLYOMCTYRJZFCPWPASLYE, $k=11$\n",
    "    * PHHWPHDWWKHUDLOZDBVWDWLRQRQSODWIRUPQLQH, $k=3$\n",
    "    * XIQVBBPMEITTAZMLIVLBPMKMQTQVOJTCM, $k=8$\n",
    "\n",
    "3. Έστω τα κρυπτοκείμενα:\n",
    "    * LXVNCXVHYJACHCXWRPQC\n",
    "    * IUBBOEKHSQHVEHJUDJXEKIQDTTEBBQHI\n",
    "    * BXQMEQOAYQNMOWMZPRUZUETKAGDEFADK\n",
    "\n",
    "    Με τη μέθοδο της εξαντλητικής αναζήτησης κλειδιού αποκρυπτογραφήστε τα. Το κρυπτοσύστημα μετατόπισης (modulo $26$) είναι ασφαλές; Αιτιολογήστε κατάλληλα."
   ]
  },
  {
   "cell_type": "markdown",
   "metadata": {},
   "source": [
    "### Απάντηση"
   ]
  },
  {
   "cell_type": "markdown",
   "metadata": {},
   "source": [
    "### Ερώτημα 1"
   ]
  },
  {
   "cell_type": "code",
   "execution_count": 1,
   "metadata": {
    "collapsed": false,
    "scrolled": true
   },
   "outputs": [
    {
     "name": "stdout",
     "output_type": "stream",
     "text": [
      "Το απλό κείμενο, ALICEOPENEDTHEDOORANDFOUNDTHATITLEDINTOASMALLPASSAGENOTMUCHLARGERTHANARATHOLE \n",
      "με κλειδί: 13 \n",
      "παράγει το κρυπτοκείμενο: NYVPRBCRARQGURQBBENAQSBHAQGUNGVGYRQVAGBNFZNYYCNFFNTRABGZHPUYNETREGUNANENGUBYR\n"
     ]
    }
   ],
   "source": [
    "def str2lst(s):\n",
    "    return [ord(x)-65 for x in s]\n",
    "\n",
    "def lst2str(lst):\n",
    "    return ''.join([chr(x+65) for x in lst])\n",
    "\n",
    "def shiftCipherEnc(pl, k):\n",
    "    # Η συνάρτηση υλοποιεί την κρυπτογράφηση\n",
    "    # με τον κρυπταλγόριθμο μετατόπισης\n",
    "    pln = str2lst(pl)\n",
    "    plnSf = [(x+k)%26 for x in pln]\n",
    "    return lst2str(plnSf)\n",
    "\n",
    "pl = \"ALICEOPENEDTHEDOORANDFOUNDTHATITLEDINTOASMALLPASSAGENOTMUCHLARGERTHANARATHOLE\"\n",
    "\n",
    "print \"Το απλό κείμενο,\", pl, \"\\nμε κλειδί:\", 13, \"\\nπαράγει το κρυπτοκείμενο:\", shiftCipherEnc(pl, 13)"
   ]
  },
  {
   "cell_type": "markdown",
   "metadata": {},
   "source": [
    "### Ερώτημα 2"
   ]
  },
  {
   "cell_type": "markdown",
   "metadata": {},
   "source": [
    "Τα κρυπτοκείμενα και τα αντίστοιχα κλειδιά τους αποθηκεύονται στη λίστα ct και k αντίστοιχα. Γίνεται επανάληψη και κλήση του αλγορίθμου για κάθε κρυπτοκείμενο. Αριθμός επαναλήψεων = μέγεθος λίστας ct (y=len(ct))."
   ]
  },
  {
   "cell_type": "code",
   "execution_count": 2,
   "metadata": {
    "collapsed": false
   },
   "outputs": [
    {
     "name": "stdout",
     "output_type": "stream",
     "text": [
      "\tΚρυπτοκείμενο \t\t\t\t\tΑποκρυπτογραφημένο κείμενο\n",
      "\n",
      "1 : GTDTEZYESPHPPVPYOLYOMCTYRJZFCPWPASLYE    \t--> \tVISITONTHEWEEKENDANDBRINGYOURELEPHANT <<με κλειδί = 11 >>\n",
      "2 : PHHWPHDWWKHUDLOZDBVWDWLRQRQSODWIRUPQLQH    \t--> \tMEETMEATTHERAILWAYSTATIONONPLATFORMNINE <<με κλειδί = 3 >>\n",
      "3 : XIQVBBPMEITTAZMLIVLBPMKMQTQVOJTCM    \t--> \tPAINTTHEWALLSREDANDTHECEILINGBLUE <<με κλειδί = 8 >>\n"
     ]
    }
   ],
   "source": [
    "def shiftCipherDec(ct,k):\n",
    "    # Η συνάρτηση υλοποιεί την αποκρυπτογράφηση\n",
    "    # με τον κρυπταλγόριθμο μετατόπισης\n",
    "    ctx = str2lst(ct)\n",
    "    ctxSf = [(x-k)%26 for x in ctx]\n",
    "    return lst2str(ctxSf)\n",
    "\n",
    "\n",
    "ct = (\"GTDTEZYESPHPPVPYOLYOMCTYRJZFCPWPASLYE\", \"PHHWPHDWWKHUDLOZDBVWDWLRQRQSODWIRUPQLQH\", \"XIQVBBPMEITTAZMLIVLBPMKMQTQVOJTCM\")\n",
    "\n",
    "k = (11, 3, 8)\n",
    "y = len(ct)\n",
    "\n",
    "print \"\\tΚρυπτοκείμενο\", \"\\t\\t\\t\\t\\t\", \"Αποκρυπτογραφημένο κείμενο\\n\"\n",
    "\n",
    "for i in range(0, y):\n",
    "    print i+1, \":\", ct[i],\"  \", \"\\t\",  \"-->\",  \"\\t\", shiftCipherDec(ct[i], k[i]), \"<<με κλειδί =\", k[i], \">>\""
   ]
  },
  {
   "cell_type": "markdown",
   "metadata": {},
   "source": [
    "### Ερώτημα 3"
   ]
  },
  {
   "cell_type": "markdown",
   "metadata": {},
   "source": [
    "###### Περίπτωση 1"
   ]
  },
  {
   "cell_type": "code",
   "execution_count": 3,
   "metadata": {
    "collapsed": false
   },
   "outputs": [
    {
     "name": "stdout",
     "output_type": "stream",
     "text": [
      "   Κρυπτοκείμενο 1 \t\tΚρυπτοκείμενο 2 \t\t\tΚρυπτοκείμενο 3\n",
      "   \n",
      "0  LXVNCXVHYJACHCXWRPQC \tIUBBOEKHSQHVEHJUDJXEKIQDTTEBBQHI \tBXQMEQOAYQNMOWMZPRUZUETKAGDEFADK\n",
      "1  KWUMBWUGXIZBGBWVQOPB \tHTAANDJGRPGUDGITCIWDJHPCSSDAAPGH \tAWPLDPNZXPMLNVLYOQTYTDSJZFCDEZCJ\n",
      "2  JVTLAVTFWHYAFAVUPNOA \tGSZZMCIFQOFTCFHSBHVCIGOBRRCZZOFG \tZVOKCOMYWOLKMUKXNPSXSCRIYEBCDYBI\n",
      "3  IUSKZUSEVGXZEZUTOMNZ \tFRYYLBHEPNESBEGRAGUBHFNAQQBYYNEF \tYUNJBNLXVNKJLTJWMORWRBQHXDABCXAH\n",
      "4  HTRJYTRDUFWYDYTSNLMY \tEQXXKAGDOMDRADFQZFTAGEMZPPAXXMDE \tXTMIAMKWUMJIKSIVLNQVQAPGWCZABWZG\n",
      "5  GSQIXSQCTEVXCXSRMKLX \tDPWWJZFCNLCQZCEPYESZFDLYOOZWWLCD \tWSLHZLJVTLIHJRHUKMPUPZOFVBYZAVYF\n",
      "6  FRPHWRPBSDUWBWRQLJKW \tCOVVIYEBMKBPYBDOXDRYECKXNNYVVKBC \tVRKGYKIUSKHGIQGTJLOTOYNEUAXYZUXE\n",
      "7  EQOGVQOARCTVAVQPKIJV \tBNUUHXDALJAOXACNWCQXDBJWMMXUUJAB \tUQJFXJHTRJGFHPFSIKNSNXMDTZWXYTWD\n",
      "8  DPNFUPNZQBSUZUPOJHIU \tAMTTGWCZKIZNWZBMVBPWCAIVLLWTTIZA \tTPIEWIGSQIFEGOERHJMRMWLCSYVWXSVC\n",
      "9  COMETOMYPARTYTONIGHT \tZLSSFVBYJHYMVYALUAOVBZHUKKVSSHYZ \tSOHDVHFRPHEDFNDQGILQLVKBRXUVWRUB\n",
      "10  BNLDSNLXOZQSXSNMHFGS \tYKRREUAXIGXLUXZKTZNUAYGTJJURRGXY \tRNGCUGEQOGDCEMCPFHKPKUJAQWTUVQTA\n",
      "11  AMKCRMKWNYPRWRMLGEFR \tXJQQDTZWHFWKTWYJSYMTZXFSIITQQFWX \tQMFBTFDPNFCBDLBOEGJOJTIZPVSTUPSZ\n",
      "12  ZLJBQLJVMXOQVQLKFDEQ \tWIPPCSYVGEVJSVXIRXLSYWERHHSPPEVW \tPLEASECOMEBACKANDFINISHYOURSTORY\n",
      "13  YKIAPKIULWNPUPKJECDP \tVHOOBRXUFDUIRUWHQWKRXVDQGGROODUV \tOKDZRDBNLDAZBJZMCEHMHRGXNTQRSNQX\n",
      "14  XJHZOJHTKVMOTOJIDBCO \tUGNNAQWTECTHQTVGPVJQWUCPFFQNNCTU \tNJCYQCAMKCZYAIYLBDGLGQFWMSPQRMPW\n",
      "15  WIGYNIGSJULNSNIHCABN \tTFMMZPVSDBSGPSUFOUIPVTBOEEPMMBST \tMIBXPBZLJBYXZHXKACFKFPEVLROPQLOV\n",
      "16  VHFXMHFRITKMRMHGBZAM \tSELLYOURCARFORTENTHOUSANDDOLLARS \tLHAWOAYKIAXWYGWJZBEJEODUKQNOPKNU\n",
      "17  UGEWLGEQHSJLQLGFAYZL \tRDKKXNTQBZQENQSDMSGNTRZMCCNKKZQR \tKGZVNZXJHZWVXFVIYADIDNCTJPMNOJMT\n",
      "18  TFDVKFDPGRIKPKFEZXYK \tQCJJWMSPAYPDMPRCLRFMSQYLBBMJJYPQ \tJFYUMYWIGYVUWEUHXZCHCMBSIOLMNILS\n",
      "19  SECUJECOFQHJOJEDYWXJ \tPBIIVLROZXOCLOQBKQELRPXKAALIIXOP \tIEXTLXVHFXUTVDTGWYBGBLARHNKLMHKR\n",
      "20  RDBTIDBNEPGINIDCXVWI \tOAHHUKQNYWNBKNPAJPDKQOWJZZKHHWNO \tHDWSKWUGEWTSUCSFVXAFAKZQGMJKLGJQ\n",
      "21  QCASHCAMDOFHMHCBWUVH \tNZGGTJPMXVMAJMOZIOCJPNVIYYJGGVMN \tGCVRJVTFDVSRTBREUWZEZJYPFLIJKFIP\n",
      "22  PBZRGBZLCNEGLGBAVTUG \tMYFFSIOLWULZILNYHNBIOMUHXXIFFULM \tFBUQIUSECURQSAQDTVYDYIXOEKHIJEHO\n",
      "23  OAYQFAYKBMDFKFAZUSTF \tLXEERHNKVTKYHKMXGMAHNLTGWWHEETKL \tEATPHTRDBTQPRZPCSUXCXHWNDJGHIDGN\n",
      "24  NZXPEZXJALCEJEZYTRSE \tKWDDQGMJUSJXGJLWFLZGMKSFVVGDDSJK \tDZSOGSQCASPOQYOBRTWBWGVMCIFGHCFM\n",
      "25  MYWODYWIZKBDIDYXSQRD \tJVCCPFLITRIWFIKVEKYFLJREUUFCCRIJ \tCYRNFRPBZRONPXNAQSVAVFULBHEFGBEL\n",
      "   \n"
     ]
    }
   ],
   "source": [
    "ct = (\"LXVNCXVHYJACHCXWRPQC\", \"IUBBOEKHSQHVEHJUDJXEKIQDTTEBBQHI\", \"BXQMEQOAYQNMOWMZPRUZUETKAGDEFADK\")\n",
    "\n",
    "y = len(ct)\n",
    "\n",
    "print \"   Κρυπτοκείμενο 1\", \"\\t\\t\", \"Κρυπτοκείμενο 2\", \"\\t\\t\\t\", \"Κρυπτοκείμενο 3\"\n",
    "print \"   \"\n",
    "for i in range (26):\n",
    "    print i, \"\", shiftCipherDec(ct[0], i), \"\\t\", shiftCipherDec(ct[1], i), \"\\t\", shiftCipherDec(ct[2], i)\n",
    "print \"   \"\n"
   ]
  },
  {
   "cell_type": "markdown",
   "metadata": {},
   "source": [
    "Εύκολα αντιλαμβάνεται κανείς ότι τα κλειδιά είναι 9, 16 και 12 για τα κρυπτοκείμενα 1, 2 και 3 αντίστοιχα."
   ]
  },
  {
   "cell_type": "markdown",
   "metadata": {},
   "source": [
    "### Αιτιολόγηση: \n",
    "Το κρυπτοσύστημα μετατόπισης (modulo 26) δεν είναι ασφαλές γιατί ο αριθμός των πιθανων κλειδιών είναι πολύ μικρός. Έτσι ένας επιτιθέμενος μπορεί σε ελάχιστο χρόνο να βρει όλους τους συνδυασμούς κλειδιού-κρυπτοκειμένου ώστε να καταφέρει να ανακτήσει το αρχικό κείμενο."
   ]
  },
  {
   "cell_type": "markdown",
   "metadata": {},
   "source": [
    "### Άσκηση 2\n",
    "### Κρυπταλγόριθμος Αντικατάστασης (Transposition Cipher)"
   ]
  },
  {
   "cell_type": "markdown",
   "metadata": {},
   "source": [
    "Έστω $\\mathcal{P} = \\mathcal{C} = \\mathcal{K}=\\mathbb{Z}_{26}$. Το $\\mathcal{K}$ αποτελείται από όλες τις δυνατές μεταθέσεις των $26$ συμβόλων $0, 1, \\ldots, 25$. Για κάθε μετάθεση $\\pi \\in \\mathcal{K}$, ορίζουμε:\n",
    "$$e_\\pi(p) = \\pi(p)$$\n",
    "και\n",
    "$$d_\\pi(c)=\\pi^{-1}(c)$$\n",
    "όπου $\\pi^{-1}$ είναι η αντίστροφη μετάθεση της $\\pi$.\n",
    "\n",
    "**Παράδειγμα**: μια «τυχαία» μετάθεση $\\pi$ η οποία θα μπορούσε να αποτελέσει μια συνάρτηση κρυπτογράφησης είναι η παρακάτω (οι χαρακτήρες του απλού κειμένου γράφονται με πεζά γράμματα και οι χαρακτήρες του κρυπτοκειμένου με κεφαλαία)\n",
    "* a  b   c   d   e   f   g   h   i   j   k   l   m   n   o   p   q   r   s   t   u   v   w   x   y   z\n",
    "* X N Y A H P O G Z Q W B T S F L R C V M U E K J D I\n",
    "\n",
    "Συνεπώς $e_\\pi(a)=Χ$, $e_\\pi(b)=Ν$ κτλ. Η συνάρτηση αποκρυπτογράφησης είναι η αντίστροφη μετάθεση. Διαμορφώνεται γράφοντας τις δεύτερες γραμμές πρώτες, και ταξινομώντας στη συνέχεια κατά αλφαβητική σειρά:\n",
    "* Α B C D E F G H I J K L M N O P Q R S T U V W X Y Z\n",
    "* d  l  r  y  u  o  h  e  z  x  w  p  t  b  g  f  j  q  n  m  u  s  k  a  c  i\n",
    "\n",
    "Επομένως, $d_\\pi(A)=d$, $d_\\pi(B)=l$, κτλ.\n",
    "\n",
    "**Παρατήρηση**: ένα κλειδί για τον Κρυπταλγόριθμο Αντικατάστασης αποτελείται απλά από μια μετάθεση των 26 αλφαβητικών χαρακτήρων. Το πλήθος των δυνατών μεταθέσεων είναι $26!$, το οποίο είναι κάτι παραπάνω από το $4.0 \\times 10^{26}$, δηλαδή ένας πολύ μεγάλος αριθμός. Επομένως, μια εξαντλητική αναζήτηση κλειδιού είναι ανέφικτη, ακόμη και για έναν ηλεκτρονικό υπολογιστή. Ωστόσο, ένας Κρυπταλγόριθμος Αντικατάστασης μπορεί εύκολα να κρυπταναλυθεί με άλλες μεθόδους, όπως αυτή που στηρίζεται στην ανάλυση συχνοτήτων των γραμμάτων μιας φυσικής γλώσσας.\n",
    "\n",
    "Το κρυπτοκείμενο που ακολουθεί έχει προκύψει με έναν κρυπταλγόριθμο αντικατάστασης:\n",
    "\n",
    "$$UXFFXIOZQASIGOVJDDXIQXGQXQSCQVWDJZGBDXZIVGWZGBQJZIJXBQH\\\\\n",
    "XZUVGWODXGQDXOZQEPQJQVLTSGJDQSFBQDXQJZIJXBOZFUVGWZJJDXZWXS\\\\\n",
    "CSGXDSOXKXIUXFFXIYSGJIZYJXBZGVFFGXQQJDZJHISBPYXBZDVWDASBNJX\\\\\n",
    "THXIZJPIXJDXJIPXGZJPIXSCJDXVFFGXQQIXTZVGQZTNQJXINJSBZNJDSPWD\\\\\n",
    "QSTXXLHXIJQAXFVXKXVJTVWDJDZKXAXXGTXGVGWVJVQOVJDVGZCXOBZNQZCJX\\\\\n",
    "IJDXCXKXIAISUXUXFFXIQTSJDXIGSJVYXBJDZJDXIBZPWDJXIBVBGJQDSOZGNI\\\\\n",
    "XZYJVSGODXGJDXBVGGXIAXFFOZQIPGWSIODXGZDZGBOZQOZKXBVGCISGJSCDXIC\\\\\n",
    "ZYXUXFFXIDZBFSQJASJDDXIQVWDJZGBDXZIVGWQDXOZQEPQJJOXGJNTSGJDQSFB$$\n",
    "\n",
    "1. Υπολογίστε τη σχετική συχνότητα όλων των γραμμάτων $A \\ldots Z$ και ταξινομείστε κατά φθίνουσα συχνότητα\n",
    "2. Αποκρυπτογραφήστε το κρυπτοκείμενο με τη βοήθεια των σχετικών συχνοτήτων των γραμμάτων του Αγγλικού αλφάβητου που παραθέτουμε στον παρακάτω πίνακα, λαμβάνοντας υπόψη ότι το κείμενο είναι σχετικά σύντομο και οι συχνότητες των γραμμάτων σ' αυτό μπορεί να μη συμφωνούν απόλυτα με τις αντίστοιχες του πίνακα. Ωστόσο, ξεκινώντας από τον δοθέντα πίνακα συχνοτήτων θα κάνετε μια πρώτη αντιστοίχιση και απόπειρα αποκρυπτογράφησης. Μελετώντας το κείμενο που προκύπτει και που αρχίζει να αποκτά νόημα θα προβείτε σε επαναληπτικές διορθώσεις της αντιστοίχισης έως ότου προκύψει το αρχικό ζητούμενο κείμενο.\n",
    "$$\n",
    "\\begin{align}\n",
    "E & = 130 \\\\\n",
    "T & = 93 \\\\\n",
    "N & = 78 \\\\\n",
    "R & = 77 \\\\\n",
    "I & = 74 \\\\\n",
    "O & = 74 \\\\\n",
    "A & = 73 \\\\\n",
    "S & = 63 \\\\\n",
    "D & = 44 \\\\\n",
    "H & = 35 \\\\\n",
    "L & = 35 \\\\\n",
    "C & = 30 \\\\\n",
    "F & = 28 \\\\\n",
    "P & = 27 \\\\\n",
    "U & = 27 \\\\\n",
    "M & = 25 \\\\\n",
    "Y & = 19 \\\\\n",
    "G & = 16 \\\\\n",
    "W & = 16 \\\\\n",
    "V & = 13 \\\\\n",
    "B & = 9 \\\\\n",
    "X & = 5 \\\\\n",
    "K & = 3 \\\\\n",
    "Q & = 3 \\\\\n",
    "J & = 2 \\\\\n",
    "Z & = 1\n",
    "\\end{align}\n",
    "$$\n"
   ]
  },
  {
   "cell_type": "markdown",
   "metadata": {},
   "source": [
    "### Απάντηση"
   ]
  },
  {
   "cell_type": "code",
   "execution_count": 4,
   "metadata": {
    "collapsed": true
   },
   "outputs": [],
   "source": [
    "# defines.. Εδώ ορίζονται κάποιες συναρτήσεις που θα χρησιμοποιήσω στη συνέχεια.\n",
    "\n",
    "def CreateKey(sorted_freq, engFreq):\n",
    "    # Η CreateKey, δοσμένης της λίστας με τις συχνότητες (ταξινομημένες) καθώς και με τα πιο συχνά γράμματα της αγγλικής, κάνει την\n",
    "    # αντιστοίχηση ώστε να παραχθεί το κλειδί.\n",
    "    alph = 'ABCDEFGHIJKLMNOPQRSTUVWXYZ'\n",
    "    key = ''\n",
    "    for i in alph:\n",
    "        key += engFreq[sorted_freq.index(i)]\n",
    "        \n",
    "    return key\n",
    "\n",
    "def subCipherDec(c, key):\n",
    "    # Η subCipherDec αποκρυπτογραφεί το κείμενο c με βάση το κλειδί key.\n",
    "    invperm = [ord(x)-64 for x in key]\n",
    "    ctx = str2lst(c)\n",
    "    conv=[invperm[ctx[i]]-1 for i in range(len(ctx))]\n",
    "    pln = lst2str(conv)\n",
    "    \n",
    "    print \"\\n\\ninvperm =\",invperm\n",
    "    \n",
    "    print(\"\\n\\nThe ciphertext: \" + c + \" \\n\\nbecomes --> \" + pln)\n",
    "    return pln\n",
    "\n",
    "\n",
    "def replaceChar(li,old,new):\n",
    "    # Η replaceChar αντικαθιστά έναν χαρακτήρα (old) σε μια λίστα (li) με έναν άλλο χαρακτήρα (new)\n",
    "    for i in li:\n",
    "        if (i == new):\n",
    "            li[li.index(new)] = 0;\n",
    "    for i in li:\n",
    "        if (i == old):\n",
    "            li[li.index(old)] = new;\n",
    "    for i in li:\n",
    "        if (i == 0):\n",
    "            li[li.index(0)] = old;\n",
    "    print \"\\nΜετά την αντικατάσταση του\", old,\" με το\", new, \"το κείμενο έγινε: \\n\\n\",''.join(li)\n",
    "    return li\n",
    "\n",
    "\n",
    "def findFreqs(freq):\n",
    "    # Η findFreqs, παίρνει ως είσοδο τις συχνότητες εμφάνισης τωνς γραμμάτων σε ένα κείμενο αλφαβητικά και τις ταξινομεί με φθίσουσα σειρά.\n",
    "    sub = \"\"\n",
    "    alph = 'ABCDEFGHIJKLMNOPQRSTUVWXYZ'\n",
    "    for i in range (0,len(freq)):\n",
    "        ind = freq.index(max(freq)) # Βρες την θέση της μεγαλύτερης συχνότητας. \n",
    "        \n",
    "        sub += alph[ind] # Το sub περιέχει σε φθίνουσα σειρά τις συχνότητες των γραμμάτων.\n",
    "        \n",
    "        p = (int(freq.index(max(freq)))) # Το p είναι η θέση του γράμματος στο freq\n",
    "        \n",
    "        freq[p]=-1 # Ανάθεση -1 ώστε να μην ξανα εξεταστεί.\n",
    "\n",
    "        #print \"\\n\",''.join(c) #Μετατροπή λίστας σε string.\n",
    "    return sub"
   ]
  },
  {
   "cell_type": "code",
   "execution_count": 5,
   "metadata": {
    "collapsed": false
   },
   "outputs": [
    {
     "name": "stdout",
     "output_type": "stream",
     "text": [
      "freq = [7, 21, 9, 38, 2, 19, 36, 4, 33, 46, 5, 2, 0, 7, 16, 9, 34, 0, 26, 9, 7, 25, 13, 69, 6, 38]\n",
      "freq = [-1, -1, -1, -1, -1, -1, -1, -1, -1, -1, -1, -1, -1, -1, -1, -1, -1, -1, -1, -1, -1, -1, -1, -1, -1, -1]\n",
      "sub \t=\tXJDZGQISVBFOWCPTANUYKHELMR\n",
      "engFreq =\tETNRIOASDHLCFPUMYGWVBXKQJZ\n",
      "\n",
      "key \t=\tYHPNKLIXATBQJGCUOZSMWDFEVR\n",
      "\n",
      "\n",
      "invperm = [25, 8, 16, 14, 11, 12, 9, 24, 1, 20, 2, 17, 10, 7, 3, 21, 15, 26, 19, 13, 23, 4, 6, 5, 22, 18]\n",
      "\n",
      "\n",
      "The ciphertext: UXFFXIOZQASIGOVJDDXIQXGQXQSCQVWDJZGBDXZIVGWZGBQJZIJXBQHXZUVGWODXGQDXOZQEPQJQVLTSGJDQSFBQDXQJZIJXBOZFUVGWZJJDXZWXSCSGXDSOXKXIUXFFXIYSGJIZYJXBZGVFFGXQQJDZJHISBPYXBZDVWDASBNJXTHXIZJPIXJDXJIPXGZJPIXSCJDXVFFGXQQIXTZVGQZTNQJXINJSBZNJDSPWDQSTXXLHXIJQAXFVXKXVJTVWDJDZKXAXXGTXGVGWVJVQOVJDVGZCXOBZNQZCJXIJDXCXKXIAISUXUXFFXIQTSJDXIGSJVYXBJDZJDXIBZPWDJXIBVBGJQDSOZGNIXZYJVSGODXGJDXBVGGXIAXFFOZQIPGWSIODXGZDZGBOZQOZKXBVGCISGJSCDXICZYXUXFFXIDZBFSQJASJDDXIQVWDJZGBDXZIVGWQDXOZQEPQJJOXGJNTSGJDQSFB \n",
      "\n",
      "becomes --> WELLEACROYSAICDTNNEAOEIOEOSPODFNTRIHNERADIFRIHOTRATEHOXERWDIFCNEIONECROKUOTODQMSITNOSLHONEOTRATEHCRLWDIFRTTNERFESPSIENSCEBEAWELLEAVSITARVTEHRIDLLIEOOTNRTXASHUVEHRNDFNYSHGTEMXEARTUAETNETAUEIRTUAESPTNEDLLIEOOAEMRDIORMGOTEAGTSHRGTNSUFNOSMEEQXEATOYELDEBEDTMDFNTNRBEYEEIMEIDIFDTDOCDTNDIRPECHRGORPTEATNEPEBEAYASWEWELLEAOMSTNEAISTDVEHTNRTNEAHRUFNTEAHDHITONSCRIGAERVTDSICNEITNEHDIIEAYELLCROAUIFSACNEIRNRIHCROCRBEHDIPASITSPNEAPRVEWELLEANRHLSOTYSTNNEAODFNTRIHNERADIFONECROKUOTTCEITGMSITNOSLH\n",
      "\n",
      "\n",
      " pln = WELLEACROYSAICDTNNEAOEIOEOSPODFNTRIHNERADIFRIHOTRATEHOXERWDIFCNEIONECROKUOTODQMSITNOSLHONEOTRATEHCRLWDIFRTTNERFESPSIENSCEBEAWELLEAVSITARVTEHRIDLLIEOOTNRTXASHUVEHRNDFNYSHGTEMXEARTUAETNETAUEIRTUAESPTNEDLLIEOOAEMRDIORMGOTEAGTSHRGTNSUFNOSMEEQXEATOYELDEBEDTMDFNTNRBEYEEIMEIDIFDTDOCDTNDIRPECHRGORPTEATNEPEBEAYASWEWELLEAOMSTNEAISTDVEHTNRTNEAHRUFNTEAHDHITONSCRIGAERVTDSICNEITNEHDIIEAYELLCROAUIFSACNEIRNRIHCROCRBEHDIPASITSPNEAPRVEWELLEANRHLSOTYSTNNEAODFNTRIHNERADIFONECROKUOTTCEITGMSITNOSLH\n",
      "\n",
      "Μετά την αντικατάσταση του N  με το H το κείμενο έγινε: \n",
      "\n",
      "WELLEACROYSAICDTHHEAOEIOEOSPODFHTRINHERADIFRINOTRATENOXERWDIFCHEIOHECROKUOTODQMSITHOSLNOHEOTRATENCRLWDIFRTTHERFESPSIEHSCEBEAWELLEAVSITARVTENRIDLLIEOOTHRTXASNUVENRHDFHYSNGTEMXEARTUAETHETAUEIRTUAESPTHEDLLIEOOAEMRDIORMGOTEAGTSNRGTHSUFHOSMEEQXEATOYELDEBEDTMDFHTHRBEYEEIMEIDIFDTDOCDTHDIRPECNRGORPTEATHEPEBEAYASWEWELLEAOMSTHEAISTDVENTHRTHEANRUFHTEANDNITOHSCRIGAERVTDSICHEITHENDIIEAYELLCROAUIFSACHEIRHRINCROCRBENDIPASITSPHEAPRVEWELLEAHRNLSOTYSTHHEAODFHTRINHERADIFOHECROKUOTTCEITGMSITHOSLN\n",
      "\n",
      "Μετά την αντικατάσταση του A  με το R το κείμενο έγινε: \n",
      "\n",
      "WELLERCAOYSRICDTHHEROEIOEOSPODFHTAINHEARDIFAINOTARTENOXEAWDIFCHEIOHECAOKUOTODQMSITHOSLNOHEOTARTENCALWDIFATTHEAFESPSIEHSCEBERWELLERVSITRAVTENAIDLLIEOOTHATXRSNUVENAHDFHYSNGTEMXERATURETHETRUEIATURESPTHEDLLIEOOREMADIOAMGOTERGTSNAGTHSUFHOSMEEQXERTOYELDEBEDTMDFHTHABEYEEIMEIDIFDTDOCDTHDIAPECNAGOAPTERTHEPEBERYRSWEWELLEROMSTHERISTDVENTHATHERNAUFHTERNDNITOHSCAIGREAVTDSICHEITHENDIIERYELLCAORUIFSRCHEIAHAINCAOCABENDIPRSITSPHERPAVEWELLERHANLSOTYSTHHERODFHTAINHEARDIFOHECAOKUOTTCEITGMSITHOSLN\n",
      "\n",
      "Μετά την αντικατάσταση του I  με το N το κείμενο έγινε: \n",
      "\n",
      "WELLERCAOYSRNCDTHHEROENOEOSPODFHTANIHEARDNFANIOTARTEIOXEAWDNFCHENOHECAOKUOTODQMSNTHOSLIOHEOTARTEICALWDNFATTHEAFESPSNEHSCEBERWELLERVSNTRAVTEIANDLLNEOOTHATXRSIUVEIAHDFHYSIGTEMXERATURETHETRUENATURESPTHEDLLNEOOREMADNOAMGOTERGTSIAGTHSUFHOSMEEQXERTOYELDEBEDTMDFHTHABEYEENMENDNFDTDOCDTHDNAPECIAGOAPTERTHEPEBERYRSWEWELLEROMSTHERNSTDVEITHATHERIAUFHTERIDINTOHSCANGREAVTDSNCHENTHEIDNNERYELLCAORUNFSRCHENAHANICAOCABEIDNPRSNTSPHERPAVEWELLERHAILSOTYSTHHERODFHTANIHEARDNFOHECAOKUOTTCENTGMSNTHOSLI\n",
      "\n",
      "Μετά την αντικατάσταση του D  με το I το κείμενο έγινε: \n",
      "\n",
      "WELLERCAOYSRNCITHHEROENOEOSPOIFHTANDHEARINFANDOTARTEDOXEAWINFCHENOHECAOKUOTOIQMSNTHOSLDOHEOTARTEDCALWINFATTHEAFESPSNEHSCEBERWELLERVSNTRAVTEDANILLNEOOTHATXRSDUVEDAHIFHYSDGTEMXERATURETHETRUENATURESPTHEILLNEOOREMAINOAMGOTERGTSDAGTHSUFHOSMEEQXERTOYELIEBEITMIFHTHABEYEENMENINFITIOCITHINAPECDAGOAPTERTHEPEBERYRSWEWELLEROMSTHERNSTIVEDTHATHERDAUFHTERDIDNTOHSCANGREAVTISNCHENTHEDINNERYELLCAORUNFSRCHENAHANDCAOCABEDINPRSNTSPHERPAVEWELLERHADLSOTYSTHHEROIFHTANDHEARINFOHECAOKUOTTCENTGMSNTHOSLD\n",
      "\n",
      "Μετά την αντικατάσταση του F  με το G το κείμενο έγινε: \n",
      "\n",
      "WELLERCAOYSRNCITHHEROENOEOSPOIGHTANDHEARINGANDOTARTEDOXEAWINGCHENOHECAOKUOTOIQMSNTHOSLDOHEOTARTEDCALWINGATTHEAGESPSNEHSCEBERWELLERVSNTRAVTEDANILLNEOOTHATXRSDUVEDAHIGHYSDFTEMXERATURETHETRUENATURESPTHEILLNEOOREMAINOAMFOTERFTSDAFTHSUGHOSMEEQXERTOYELIEBEITMIGHTHABEYEENMENINGITIOCITHINAPECDAFOAPTERTHEPEBERYRSWEWELLEROMSTHERNSTIVEDTHATHERDAUGHTERDIDNTOHSCANFREAVTISNCHENTHEDINNERYELLCAORUNGSRCHENAHANDCAOCABEDINPRSNTSPHERPAVEWELLERHADLSOTYSTHHEROIGHTANDHEARINGOHECAOKUOTTCENTFMSNTHOSLD\n",
      "\n",
      "Μετά την αντικατάσταση του C  με το W το κείμενο έγινε: \n",
      "\n",
      "CELLERWAOYSRNWITHHEROENOEOSPOIGHTANDHEARINGANDOTARTEDOXEACINGWHENOHEWAOKUOTOIQMSNTHOSLDOHEOTARTEDWALCINGATTHEAGESPSNEHSWEBERCELLERVSNTRAVTEDANILLNEOOTHATXRSDUVEDAHIGHYSDFTEMXERATURETHETRUENATURESPTHEILLNEOOREMAINOAMFOTERFTSDAFTHSUGHOSMEEQXERTOYELIEBEITMIGHTHABEYEENMENINGITIOWITHINAPEWDAFOAPTERTHEPEBERYRSCECELLEROMSTHERNSTIVEDTHATHERDAUGHTERDIDNTOHSWANFREAVTISNWHENTHEDINNERYELLWAORUNGSRWHENAHANDWAOWABEDINPRSNTSPHERPAVECELLERHADLSOTYSTHHEROIGHTANDHEARINGOHEWAOKUOTTWENTFMSNTHOSLD\n",
      "\n",
      "Μετά την αντικατάσταση του X  με το P το κείμενο έγινε: \n",
      "\n",
      "CELLERWAOYSRNWITHHEROENOEOSXOIGHTANDHEARINGANDOTARTEDOPEACINGWHENOHEWAOKUOTOIQMSNTHOSLDOHEOTARTEDWALCINGATTHEAGESXSNEHSWEBERCELLERVSNTRAVTEDANILLNEOOTHATPRSDUVEDAHIGHYSDFTEMPERATURETHETRUENATURESXTHEILLNEOOREMAINOAMFOTERFTSDAFTHSUGHOSMEEQPERTOYELIEBEITMIGHTHABEYEENMENINGITIOWITHINAXEWDAFOAXTERTHEXEBERYRSCECELLEROMSTHERNSTIVEDTHATHERDAUGHTERDIDNTOHSWANFREAVTISNWHENTHEDINNERYELLWAORUNGSRWHENAHANDWAOWABEDINXRSNTSXHERXAVECELLERHADLSOTYSTHHEROIGHTANDHEARINGOHEWAOKUOTTWENTFMSNTHOSLD\n",
      "\n",
      "Μετά την αντικατάσταση του O  με το S το κείμενο έγινε: \n",
      "\n",
      "CELLERWASYORNWITHHERSENSESOXSIGHTANDHEARINGANDSTARTEDSPEACINGWHENSHEWASKUSTSIQMONTHSOLDSHESTARTEDWALCINGATTHEAGEOXONEHOWEBERCELLERVONTRAVTEDANILLNESSTHATPRODUVEDAHIGHYODFTEMPERATURETHETRUENATUREOXTHEILLNESSREMAINSAMFSTERFTODAFTHOUGHSOMEEQPERTSYELIEBEITMIGHTHABEYEENMENINGITISWITHINAXEWDAFSAXTERTHEXEBERYROCECELLERSMOTHERNOTIVEDTHATHERDAUGHTERDIDNTSHOWANFREAVTIONWHENTHEDINNERYELLWASRUNGORWHENAHANDWASWABEDINXRONTOXHERXAVECELLERHADLOSTYOTHHERSIGHTANDHEARINGSHEWASKUSTTWENTFMONTHSOLD\n",
      "\n",
      "Μετά την αντικατάσταση του Q  με το X το κείμενο έγινε: \n",
      "\n",
      "CELLERWASYORNWITHHERSENSESOQSIGHTANDHEARINGANDSTARTEDSPEACINGWHENSHEWASKUSTSIXMONTHSOLDSHESTARTEDWALCINGATTHEAGEOQONEHOWEBERCELLERVONTRAVTEDANILLNESSTHATPRODUVEDAHIGHYODFTEMPERATURETHETRUENATUREOQTHEILLNESSREMAINSAMFSTERFTODAFTHOUGHSOMEEXPERTSYELIEBEITMIGHTHABEYEENMENINGITISWITHINAQEWDAFSAQTERTHEQEBERYROCECELLERSMOTHERNOTIVEDTHATHERDAUGHTERDIDNTSHOWANFREAVTIONWHENTHEDINNERYELLWASRUNGORWHENAHANDWASWABEDINQRONTOQHERQAVECELLERHADLOSTYOTHHERSIGHTANDHEARINGSHEWASKUSTTWENTFMONTHSOLD\n",
      "\n",
      "Μετά την αντικατάσταση του F  με το Y το κείμενο έγινε: \n",
      "\n",
      "CELLERWASFORNWITHHERSENSESOQSIGHTANDHEARINGANDSTARTEDSPEACINGWHENSHEWASKUSTSIXMONTHSOLDSHESTARTEDWALCINGATTHEAGEOQONEHOWEBERCELLERVONTRAVTEDANILLNESSTHATPRODUVEDAHIGHFODYTEMPERATURETHETRUENATUREOQTHEILLNESSREMAINSAMYSTERYTODAYTHOUGHSOMEEXPERTSFELIEBEITMIGHTHABEFEENMENINGITISWITHINAQEWDAYSAQTERTHEQEBERFROCECELLERSMOTHERNOTIVEDTHATHERDAUGHTERDIDNTSHOWANYREAVTIONWHENTHEDINNERFELLWASRUNGORWHENAHANDWASWABEDINQRONTOQHERQAVECELLERHADLOSTFOTHHERSIGHTANDHEARINGSHEWASKUSTTWENTYMONTHSOLD\n",
      "\n",
      "Μετά την αντικατάσταση του F  με το B το κείμενο έγινε: \n",
      "\n",
      "CELLERWASBORNWITHHERSENSESOQSIGHTANDHEARINGANDSTARTEDSPEACINGWHENSHEWASKUSTSIXMONTHSOLDSHESTARTEDWALCINGATTHEAGEOQONEHOWEFERCELLERVONTRAVTEDANILLNESSTHATPRODUVEDAHIGHBODYTEMPERATURETHETRUENATUREOQTHEILLNESSREMAINSAMYSTERYTODAYTHOUGHSOMEEXPERTSBELIEFEITMIGHTHAFEBEENMENINGITISWITHINAQEWDAYSAQTERTHEQEFERBROCECELLERSMOTHERNOTIVEDTHATHERDAUGHTERDIDNTSHOWANYREAVTIONWHENTHEDINNERBELLWASRUNGORWHENAHANDWASWAFEDINQRONTOQHERQAVECELLERHADLOSTBOTHHERSIGHTANDHEARINGSHEWASKUSTTWENTYMONTHSOLD\n",
      "\n",
      "Μετά την αντικατάσταση του F  με το V το κείμενο έγινε: \n",
      "\n",
      "CELLERWASBORNWITHHERSENSESOQSIGHTANDHEARINGANDSTARTEDSPEACINGWHENSHEWASKUSTSIXMONTHSOLDSHESTARTEDWALCINGATTHEAGEOQONEHOWEVERCELLERFONTRAFTEDANILLNESSTHATPRODUFEDAHIGHBODYTEMPERATURETHETRUENATUREOQTHEILLNESSREMAINSAMYSTERYTODAYTHOUGHSOMEEXPERTSBELIEVEITMIGHTHAVEBEENMENINGITISWITHINAQEWDAYSAQTERTHEQEVERBROCECELLERSMOTHERNOTIFEDTHATHERDAUGHTERDIDNTSHOWANYREAFTIONWHENTHEDINNERBELLWASRUNGORWHENAHANDWASWAVEDINQRONTOQHERQAFECELLERHADLOSTBOTHHERSIGHTANDHEARINGSHEWASKUSTTWENTYMONTHSOLD\n",
      "\n",
      "Μετά την αντικατάσταση του Q  με το F το κείμενο έγινε: \n",
      "\n",
      "CELLERWASBORNWITHHERSENSESOFSIGHTANDHEARINGANDSTARTEDSPEACINGWHENSHEWASKUSTSIXMONTHSOLDSHESTARTEDWALCINGATTHEAGEOFONEHOWEVERCELLERQONTRAQTEDANILLNESSTHATPRODUQEDAHIGHBODYTEMPERATURETHETRUENATUREOFTHEILLNESSREMAINSAMYSTERYTODAYTHOUGHSOMEEXPERTSBELIEVEITMIGHTHAVEBEENMENINGITISWITHINAFEWDAYSAFTERTHEFEVERBROCECELLERSMOTHERNOTIQEDTHATHERDAUGHTERDIDNTSHOWANYREAQTIONWHENTHEDINNERBELLWASRUNGORWHENAHANDWASWAVEDINFRONTOFHERFAQECELLERHADLOSTBOTHHERSIGHTANDHEARINGSHEWASKUSTTWENTYMONTHSOLD\n",
      "\n",
      "Μετά την αντικατάσταση του C  με το K το κείμενο έγινε: \n",
      "\n",
      "KELLERWASBORNWITHHERSENSESOFSIGHTANDHEARINGANDSTARTEDSPEAKINGWHENSHEWASCUSTSIXMONTHSOLDSHESTARTEDWALKINGATTHEAGEOFONEHOWEVERKELLERQONTRAQTEDANILLNESSTHATPRODUQEDAHIGHBODYTEMPERATURETHETRUENATUREOFTHEILLNESSREMAINSAMYSTERYTODAYTHOUGHSOMEEXPERTSBELIEVEITMIGHTHAVEBEENMENINGITISWITHINAFEWDAYSAFTERTHEFEVERBROKEKELLERSMOTHERNOTIQEDTHATHERDAUGHTERDIDNTSHOWANYREAQTIONWHENTHEDINNERBELLWASRUNGORWHENAHANDWASWAVEDINFRONTOFHERFAQEKELLERHADLOSTBOTHHERSIGHTANDHEARINGSHEWASCUSTTWENTYMONTHSOLD\n",
      "\n",
      "Μετά την αντικατάσταση του C  με το J το κείμενο έγινε: \n",
      "\n",
      "KELLERWASBORNWITHHERSENSESOFSIGHTANDHEARINGANDSTARTEDSPEAKINGWHENSHEWASJUSTSIXMONTHSOLDSHESTARTEDWALKINGATTHEAGEOFONEHOWEVERKELLERQONTRAQTEDANILLNESSTHATPRODUQEDAHIGHBODYTEMPERATURETHETRUENATUREOFTHEILLNESSREMAINSAMYSTERYTODAYTHOUGHSOMEEXPERTSBELIEVEITMIGHTHAVEBEENMENINGITISWITHINAFEWDAYSAFTERTHEFEVERBROKEKELLERSMOTHERNOTIQEDTHATHERDAUGHTERDIDNTSHOWANYREAQTIONWHENTHEDINNERBELLWASRUNGORWHENAHANDWASWAVEDINFRONTOFHERFAQEKELLERHADLOSTBOTHHERSIGHTANDHEARINGSHEWASJUSTTWENTYMONTHSOLD\n",
      "\n",
      "Μετά την αντικατάσταση του Q  με το C το κείμενο έγινε: \n",
      "\n",
      "KELLERWASBORNWITHHERSENSESOFSIGHTANDHEARINGANDSTARTEDSPEAKINGWHENSHEWASJUSTSIXMONTHSOLDSHESTARTEDWALKINGATTHEAGEOFONEHOWEVERKELLERCONTRACTEDANILLNESSTHATPRODUCEDAHIGHBODYTEMPERATURETHETRUENATUREOFTHEILLNESSREMAINSAMYSTERYTODAYTHOUGHSOMEEXPERTSBELIEVEITMIGHTHAVEBEENMENINGITISWITHINAFEWDAYSAFTERTHEFEVERBROKEKELLERSMOTHERNOTICEDTHATHERDAUGHTERDIDNTSHOWANYREACTIONWHENTHEDINNERBELLWASRUNGORWHENAHANDWASWAVEDINFRONTOFHERFACEKELLERHADLOSTBOTHHERSIGHTANDHEARINGSHEWASJUSTTWENTYMONTHSOLD\n"
     ]
    }
   ],
   "source": [
    "# t είναι το κρυπτοκείμενο.\n",
    "t = 'UXFFXIOZQASIGOVJDDXIQXGQXQSCQVWDJZGBDXZIVGWZGBQJZIJXBQHXZUVGWODXGQDXOZQEPQJQVLTSGJDQSFBQDXQJZIJXBOZFUVGWZJJDXZWXSCSGXDSOXKXIUXFFXIYSGJIZYJXBZGVFFGXQQJDZJHISBPYXBZDVWDASBNJXTHXIZJPIXJDXJIPXGZJPIXSCJDXVFFGXQQIXTZVGQZTNQJXINJSBZNJDSPWDQSTXXLHXIJQAXFVXKXVJTVWDJDZKXAXXGTXGVGWVJVQOVJDVGZCXOBZNQZCJXIJDXCXKXIAISUXUXFFXIQTSJDXIGSJVYXBJDZJDXIBZPWDJXIBVBGJQDSOZGNIXZYJVSGODXGJDXBVGGXIAXFFOZQIPGWSIODXGZDZGBOZQOZKXBVGCISGJSCDXICZYXUXFFXIDZBFSQJASJDDXIQVWDJZGBDXZIVGWQDXOZQEPQJJOXGJNTSGJDQSFB'\n",
    "\n",
    "alph = 'ABCDEFGHIJKLMNOPQRSTUVWXYZ'\n",
    "N = len(t)\n",
    "freq = []\n",
    "for i in alph:\n",
    "    freq.append(t.count(i)) # Το freq έχεις τις συχότητες του κάθε γράμματος αλφαβητικά.\n",
    "    #print i, freq[ord(i)-65]\n",
    "\n",
    "print \"freq =\",(freq)\n",
    "c = list(t) # Το c περιέχει το κρυπτοκείμενο σε λίστα.\n",
    "engFreq = \"ETNRIOASDHLCFPUMYGWVBXKQJZ\" # Το engFreq περιέχει τα αγγλικά γράμματα με τις συχνότητές\n",
    "                                       # τους με φθίνουσα σειρά ταξινόμησης.\n",
    "eng2Freq = 'ETAOINSHRDLCUMWFGYPBVKJXQZ' # από πέρυσι.\n",
    "\n",
    "sub = findFreqs(freq)\n",
    "\n",
    "print \"freq =\",freq\n",
    "print \"sub \\t=\\t\",sub\n",
    "print \"engFreq =\\t\",engFreq\n",
    "        \n",
    "key = CreateKey(sub,engFreq)\n",
    "print \"\\nkey \\t=\\t\", key    \n",
    "\n",
    "pln = subCipherDec(t, key)\n",
    "print \"\\n\\n pln =\",pln\n",
    "\n",
    "# Μετά την πρώτη απόπειρα αποκρυπτογράφησης δοκιμάζω να αλλάξω\n",
    "# κάποιους χαρακτήρες ώστε να βγει κάποιο νόημα/\n",
    "\n",
    "pln = replaceChar(list(pln), \"N\", \"H\") # Πολύ συχνή εμφάνιση του 'TNE' άρα μάλλον είναι το 'THE' \n",
    "pln = replaceChar(list(pln), \"A\", \"R\") # Αντιστοίχηση λέξης 'TAUE' με 'TRUE'\n",
    "pln = replaceChar(list(pln), \"I\", \"N\") # Αντιστοίχηση λέξης 'IATURE' με 'NATURE'\n",
    "pln = replaceChar(list(pln), \"D\", \"I\") # Αντιστοίχηση λέξης 'REMADN' με 'REMAIN'\n",
    "pln = replaceChar(list(pln), \"F\", \"G\") # Από εδώ και κάτω γίνεται λίγο καθαρό....\n",
    "pln = replaceChar(list(pln), \"C\", \"W\")\n",
    "pln = replaceChar(list(pln), \"X\", \"P\")\n",
    "pln = replaceChar(list(pln), \"O\", \"S\")\n",
    "pln = replaceChar(list(pln), \"Q\", \"X\")\n",
    "pln = replaceChar(list(pln), \"F\", \"Y\")\n",
    "pln = replaceChar(list(pln), \"F\", \"B\")\n",
    "pln = replaceChar(list(pln), \"F\", \"V\")\n",
    "pln = replaceChar(list(pln), \"Q\", \"F\")\n",
    "pln = replaceChar(list(pln), \"C\", \"K\")\n",
    "pln = replaceChar(list(pln), \"C\", \"J\")\n",
    "pln = replaceChar(list(pln), \"Q\", \"C\")"
   ]
  },
  {
   "cell_type": "markdown",
   "metadata": {},
   "source": [
    "### Άσκηση 3\n",
    "### Ομοπαραλληλικός κρυπταλγόριθμος (Affine Cipher)"
   ]
  },
  {
   "cell_type": "markdown",
   "metadata": {},
   "source": [
    "Έστω $\\mathcal{P} = \\mathcal{C} = \\mathbb{Z}_m$ και $\\mathcal{K}=\\{(a,b) \\in \\mathbb{Z}_m \\times \\mathbb{Z}_m: gcd(a,m)=1\\}=\\mathbb{Z}^{*}_m \\times \\mathbb{Z}_m$, όπου $m$ θετικός ακέραιος. Για $k=(a,b) \\in \\mathcal{K}$ ορίζουμε:\n",
    "$$e_k(p)=(ap+b) \\bmod m$$\n",
    "και\n",
    "$$d_k(c)=a^{-1}(c-b) \\bmod m$$\n",
    "όπου $(p, c) \\in \\mathbb{Z}_m$, ειδική περίπτωση $m=26$ (αγγλικό αλφάβητο).\n",
    "\n",
    "**Παρατήρηση:** το πλήθος των κλειδιών του Ομοπαραλληλικού Κρυπταλγόριθμου, όταν αυτός είναι ορισμένος πάνω στο $\\mathbb{Z}_m$, είναι $m \\phi(m)$, όπου $\\phi(m)$ είναι η συνάρτηση του Euler (το πλήθος των επιλογών για το $b$ είναι $m$ και το πλήθος των επιλογών για το $a$ είναι $\\phi(m)$).\n",
    "\n",
    "**Παρατήρηση:** ο ομοπαραλληλικός κρυπταλγόριθμος είναι ευάλωτος σε μια **επίθεση επιλεγμένου απλού κειμένου** (**Chosen Plaintext Attack - CPA**). Έχοντας προσωρινή πρόσβαση στον μηχανισμό κρυπτογράφησης αρκεί η επιλογή $2$ γραμμάτων για τον προσδιορισμό του κλειδιού. Αν για παράδειγμα ο αντίπαλος επιλέξει τα γράμματα $I$ και $F$ (8 και 5 αντίστοιχα) των οποίων το αντίστοιχο κρυπτοκείμενο είναι τα γράμματα $P$ και $Q$ (15 και 16 αντίστοιχα), τότε με αντικατάσταση στη συνάρτηση κρυπτογράφησης παίρνει:\n",
    "$$\n",
    "\\begin{equation*}\n",
    "\\begin{cases}\n",
    "c_1 &=& k_1 p_1 &+& k_2\\ (\\bmod 26)\\\\\n",
    "c_2 &=& k_1 p_2 &+& k_2\\ (\\bmod 26)\n",
    "\\end{cases} \\Rightarrow\n",
    "\\begin{cases}\n",
    "15 &=& k_1 8 &+& k_2\\\\\n",
    "16 &=& k_1 5 &+& k_2\n",
    "\\end{cases}\n",
    "\\end{equation*}\n",
    "$$\n",
    "Επιλύοντας το γραμμικό σύστημα με γνωστά τα $p_1,p_2,c_1,c_2$ βρίσκει εύκολα το κλειδί $k=(k_1,k_2)$.\n",
    "\n",
    "1. Να γίνει η αποκρυπτογράφηση του κρυπτοκειμένου\n",
    "$$UCIVRSQMIFFRQWURMLPMWRIWWRBIUEZRIVTLBORRSIW\\\\\n",
    "SQMYIVIVTEUHOAOIFFSQMBIRROVRUQVJQBIAUVMROQBRCQ$$\n",
    "που προέκυψε από τον Ομοπαραλληλικό Κρυπταλγόριθμο με παραμέτρους κλειδιού (a,b)=(21,8).\n",
    "2. Έχοντας προσωρινή πρόσβαση στον μηχανισμό κρυπτογράφησης ενός Ομοπαραλληλικού Κρυπταλγορίθμου επιλέξαμε το απλό κείμενο **ON** που αντιστοιχεί στο κρυπτοκείμενο **TU**. Να γίνει η κρυπτανάλυση του αλγορίθμου.\n",
    "3. Εξετάστε τη συμπεριφορά του ομοπαραλληλικού κρυπταλγορίθμου σε **επίθεση γνωστού απλού κειμένου** (**KPA – Known Plaintext Attack**); Προσπαθείστε να δώσετε την απάντηση:\n",
    "    * έχοντας κατανοήσει τη διαφορά των επιθέσεων CPA και KPA,\n",
    "    * λαμβάντας υπόψη ένα παράδειγμα, όπως η επιλογή του απλού κειμένου **WE** που αντιστοιχεί στο κρυπτοκείμενο **JN**."
   ]
  },
  {
   "cell_type": "markdown",
   "metadata": {},
   "source": [
    "### Απάντηση"
   ]
  },
  {
   "cell_type": "markdown",
   "metadata": {},
   "source": [
    "### Ερώτημα 1"
   ]
  },
  {
   "cell_type": "code",
   "execution_count": 6,
   "metadata": {
    "collapsed": false
   },
   "outputs": [
    {
     "name": "stdout",
     "output_type": "stream",
     "text": [
      "The ciphertext message: UCIVRSQMIFFRQWURMLPMWRIWWRBIUEZRIVTLBORRSIWSQMYIVIVTEUHOAOIFFSQMBIRROVRUQVJQBIAUVMROQBRCQ \n",
      "\n",
      "becomes --> IWANTYOUALLTOSITUPJUSTASSTRAIGHTANDPRETTYASYOUCANANDGIVEMEALLYOURATTENTIONFORAMINUTEORTWO\n"
     ]
    }
   ],
   "source": [
    "ctx = 'UCIVRSQMIFFRQWURMLPMWRIWWRBIUEZRIVTLBORRSIWSQMYIVIVTEUHOAOIFFSQMBIRROVRUQVJQBIAUVMROQBRCQ'\n",
    "k1 = 21\n",
    "k2 = 8\n",
    "\n",
    "def affine_dec(c,key1,key2):\n",
    "    # Αποκρυπτογράφηση Ομοπαραλληλικού    \n",
    "    key1_inv=inverse_mod(key1,26) # int(key1)\n",
    "    pln = str2lst(c)\n",
    "    pln2 = [key1_inv*(x-key2)%26 for x in pln]  \n",
    "    m = lst2str(pln2)\n",
    "    #print \"c =\",c, \"\\nkey1_inv =\", key1_inv, \"\\npln =\",pln, \"\\npln2 =\",pln2, \"\\nm =\", m\n",
    "    return m\n",
    "    \n",
    "print(\"The ciphertext message: \" + ctx + \" \\n\\nbecomes --> \" + affine_dec(ctx,k1,k2))"
   ]
  },
  {
   "cell_type": "markdown",
   "metadata": {},
   "source": [
    "### Ερώτημα 2"
   ]
  },
  {
   "cell_type": "code",
   "execution_count": 7,
   "metadata": {
    "collapsed": false
   },
   "outputs": [
    {
     "name": "stdout",
     "output_type": "stream",
     "text": [
      "The key is (25, 7)\n",
      "The ciphertext message: TU becomes --> ON\n"
     ]
    }
   ],
   "source": [
    "m = 26\n",
    "Z26 = IntegerModRing(m)\n",
    "\n",
    "plaintext='ON' \n",
    "ciphertext='TU' \n",
    "  \n",
    "def affine_analysis(plaintext,ciphertext):\n",
    "    # Λύση συστήματος εξισώσεων για εύρεση κλειδιών.\n",
    "    \n",
    "    p=str2lst(plaintext) #p1=14, p2=13\n",
    "    c=str2lst(ciphertext) #c1=19, c2=20\n",
    "\n",
    "    # c1=p1*k1+k2 and c2=p2*k1+k2\n",
    "    # 19=14k1+k2 and 20=13k1+k2\n",
    "    A = matrix(Z26, 2, 2, [p[0], 1, p[1], 1])\n",
    "    b = vector(Z26, [c[0], c[1]])\n",
    "    key=A.solve_right(b)  \n",
    "    phi=[k for k in range(1,27) if gcd(k,26)==1] # Βρίσκει σχετικά πρώτους αριθμούς με το 26.\n",
    "    for x in phi:\n",
    "        if (x == key[0]):\n",
    "            return key\n",
    "    print \"Key[0]\",key[0], \"is not Relatively Prime with 26!!!\"\n",
    "\n",
    "key = affine_analysis(plaintext,ciphertext)\n",
    "print 'The key is', key\n",
    "\n",
    "print(\"The ciphertext message: \" + ciphertext + \" becomes --> \" + affine_dec(ciphertext,ZZ(key[0]),ZZ(key[1])))"
   ]
  },
  {
   "cell_type": "markdown",
   "metadata": {},
   "source": [
    "### Ερώτημα 3"
   ]
  },
  {
   "cell_type": "markdown",
   "metadata": {},
   "source": [
    "Έστω ότι ο επιτιθέμενος υποθέτει ότι στο κρυπτοκείμενο μας το **JN** αντιστοιχεί στο **WE**.  \n",
    "Αν προσπαθήσει να κάνει κρυπτανάλυση ώστε να βρει τα κλειδία στο m=26 δεν θα βρει σωστό κλειδί  (δεν θα είναι σχετικά πρώτο το a με το 26) γιατί λογικά η κρυπτογράφηση έγινε σε άλλο $\\mathbb{Z}$ (όχι στο $\\mathbb{Z}_{26}$), ή απλά δεν είναι σωστή η αντιστοίχηση.\n"
   ]
  },
  {
   "cell_type": "code",
   "execution_count": 8,
   "metadata": {
    "collapsed": false
   },
   "outputs": [
    {
     "name": "stdout",
     "output_type": "stream",
     "text": [
      "Key[0] 20 is not Relatively Prime with 26!!!\n"
     ]
    }
   ],
   "source": [
    "key = affine_analysis(\"WE\",\"JN\") # Το κλειδί που παράγεται δεν είναι σχετικά πρώτο με το 26. \n"
   ]
  },
  {
   "cell_type": "markdown",
   "metadata": {},
   "source": [
    "Γενικά μια επίθεση γνωστού απλού κειμένου μπορεί να πετύχει αν μαντευθεί σωστά η αντιστοίχηση τουλάχιστον 2 γραμμάτων. Παρόλα αυτά ακόμα και να είναι σωστή η αντιστοίχηση, θα πρέπει ο επιτιθέμενος να ψάξει στο κατάλληλο $\\mathbb{Z}$ ώστε να μπορέσει να βρει το κατάλληλο αντιστρέψιμο κλειδί a."
   ]
  },
  {
   "cell_type": "markdown",
   "metadata": {},
   "source": [
    "### Άσκηση 4"
   ]
  },
  {
   "cell_type": "markdown",
   "metadata": {},
   "source": [
    "Υποθέστε ότι κρυπτογραφούμε ένα μήνυμα χρησιμοποιώντας έναν ομοπαραλληλικό κρυπταλγόριθμο και στη συνέχεια κρυπτογραφούμε το κρυπτοκείμενο χρησιμοποιώντας έναν άλλο ομοπαραλληλικό κρυπταλγόριθμο (και οι δύο $modulo 26$). Υπάρχει κάποιο πλεονέκτημα σε σύγκριση με τον απλό (μονό) ομοπαραλληλικό κρυπταλγόριθμο; Ναι ή όχι και γιατί;\n",
    "\n",
    "**Υπόδειξη**: μια προφανής προσέγγιση για να αυξήσουμε την ασφάλεια ενός συμμετρικού αλγόριθμου είναι να εφαρμόσουμε τον ίδιο κρυπταλγόριθμο δύο φορές, δηλ., $y = e_{k2}(e_{k1}(x))$. Όπως όμως συμβαίνει συχνά στην κρυπτογραφία το αποτελέσματα είναι συχνά διαφορετικό από ότι επιθυμούμε. Σε αυτή την άσκηση διαπιστώνουμε ότι μια διπλή κρυπτογράφηση με τον ομοπαραλληλικό κρυπταλγόριθμο είναι το ίδιο ασφαλής με μια απλή κρυπτογράφηση. Για να το δείξετε, υποθέστε δύο ομοπαραλληλικούς κρυπταλγόριθμους $e_{k1} = a_1x + b_1$ και $e_{k2} = a_2x + b_2$.\n",
    "1. Δείξτε ότι υπάρχει ένας απλός ομοπαραλληλικός κρυπταλγόριθμος $e_{k3} = a_3x + b_3$ ο οποίος εκτελεί ακριβώς την ίδια κρυπτογράφηση (και αποκρυπτογράφηση) όπως ο συνδυασμός $e_{k2}(e_{k1}(x))$.\n",
    "2. Βρείτε, για παράδειγμα, τις τιμές των $a_3, b_3$ όταν $a_1 = 3, b_1 = 5$ και $a_2 = 11, b_2 = 7$.\n",
    "3. Για επαλήθευση:\n",
    "    * κρυπτογραφήστε το γράμμα $K$ πρώτα με τον $e_{k1}$ και το αποτέλεσμα με τον $e_{k2}$, και\n",
    "    * κρυπτογραφήστε το γράμμα $K$ με τον $e_{k3}$.\n",
    "4. Περιγράψτε εν συντομία τι συμβαίνει αν εφαρμόσουμε μια επίθεση εξαντλητικής αναζήτησης κλειδιού σε ένα κρυπτοκείμενο που έχει προκύψει με διπλό ομοπαραλληλικό κρυπταλγόριθμο. Είναι αυξημένος ο πραγματικός (ενεργός) κλειδοχώρος;"
   ]
  },
  {
   "cell_type": "markdown",
   "metadata": {},
   "source": [
    "### Απάντηση"
   ]
  },
  {
   "cell_type": "markdown",
   "metadata": {},
   "source": [
    " ### Ερώτημα 1 απόδειξη\n",
    " \n",
    " $e_{k2}(e_{k1}(x)) = a_2(a_1x + b_1) + b_2 = (a_2a_1)x + a_2b_1 + b_2 = a_3x + b_3$\n",
    " \n",
    " Επομένως $a_3 = a_2a_1$ και $b_3 = a_2b_1 + b_2$\n",
    " \n",
    " Επειδή όμως $gcd(a_1, 26) = 1$ και $gcd(a_2, 26)$ => $gcd(a_1*a_2, 26) = gcd(a_3, 26) = 1$.\n",
    " \n",
    " Άρα και ο  $e_{k3}(x)= a_3x + b_3$ (όπου $a_3 = a_2a_1$ και $b_3 = a_2b_1 + b_2$) θα εκτελεί ακριβώς την ίδια κρυπτογράφηση με τον $e_{k2}(e_{k1}(x))$\n",
    " "
   ]
  },
  {
   "cell_type": "markdown",
   "metadata": {},
   "source": [
    "### Ερώτημα 1 Test"
   ]
  },
  {
   "cell_type": "code",
   "execution_count": 9,
   "metadata": {
    "collapsed": false,
    "scrolled": true
   },
   "outputs": [
    {
     "name": "stdout",
     "output_type": "stream",
     "text": [
      "Cipher 1: \t=\tVJVDSSVJVDSSWHZNFHL\n",
      "\n",
      "\n",
      "Cipher 2: \t=\tTBTFIITBTFIIOLZHVLR\n",
      "\n",
      "\n",
      "Brute Force για εύρεση πιθανών κλειδιών:\n",
      "\n",
      "1 1 SASEHHSASEHHNKYGUKQ\n",
      "1 2 RZRDGGRZRDGGMJXFTJP\n",
      "1 3 QYQCFFQYQCFFLIWESIO\n",
      "1 4 PXPBEEPXPBEEKHVDRHN\n",
      "1 5 OWOADDOWOADDJGUCQGM\n",
      "1 6 NVNZCCNVNZCCIFTBPFL\n",
      "1 7 MUMYBBMUMYBBHESAOEK\n",
      "1 8 LTLXAALTLXAAGDRZNDJ\n",
      "1 9 KSKWZZKSKWZZFCQYMCI\n",
      "1 10 JRJVYYJRJVYYEBPXLBH\n",
      "1 11 IQIUXXIQIUXXDAOWKAG\n",
      "1 12 HPHTWWHPHTWWCZNVJZF\n",
      "1 13 GOGSVVGOGSVVBYMUIYE\n",
      "1 14 FNFRUUFNFRUUAXLTHXD\n",
      "1 15 EMEQTTEMEQTTZWKSGWC\n",
      "1 16 DLDPSSDLDPSSYVJRFVB\n",
      "1 17 CKCORRCKCORRXUIQEUA\n",
      "1 18 BJBNQQBJBNQQWTHPDTZ\n",
      "1 19 AIAMPPAIAMPPVSGOCSY\n",
      "1 20 ZHZLOOZHZLOOURFNBRX\n",
      "1 21 YGYKNNYGYKNNTQEMAQW\n",
      "1 22 XFXJMMXFXJMMSPDLZPV\n",
      "1 23 WEWILLWEWILLROCKYOU\n",
      "1 24 VDVHKKVDVHKKQNBJXNT\n",
      "1 25 UCUGJJUCUGJJPMAIWMS\n",
      "3 1 GAGKLLGAGKLLNMICYMO\n",
      "3 2 XRXBCCXRXBCCEDZTPDF\n",
      "3 3 OIOSTTOIOSTTVUQKGUW\n",
      "3 4 FZFJKKFZFJKKMLHBXLN\n",
      "3 5 WQWABBWQWABBDCYSOCE\n",
      "3 6 NHNRSSNHNRSSUTPJFTV\n",
      "3 7 EYEIJJEYEIJJLKGAWKM\n",
      "3 8 VPVZAAVPVZAACBXRNBD\n",
      "3 9 MGMQRRMGMQRRTSOIESU\n",
      "3 10 DXDHIIDXDHIIKJFZVJL\n",
      "3 11 UOUYZZUOUYZZBAWQMAC\n",
      "3 12 LFLPQQLFLPQQSRNHDRT\n",
      "3 13 CWCGHHCWCGHHJIEYUIK\n",
      "3 14 TNTXYYTNTXYYAZVPLZB\n",
      "3 15 KEKOPPKEKOPPRQMGCQS\n",
      "3 16 BVBFGGBVBFGGIHDXTHJ\n",
      "3 17 SMSWXXSMSWXXZYUOKYA\n",
      "3 18 JDJNOOJDJNOOQPLFBPR\n",
      "3 19 AUAEFFAUAEFFHGCWSGI\n",
      "3 20 RLRVWWRLRVWWYXTNJXZ\n",
      "3 21 ICIMNNICIMNNPOKEAOQ\n",
      "3 22 ZTZDEEZTZDEEGFBVRFH\n",
      "3 23 QKQUVVQKQUVVXWSMIWY\n",
      "3 24 HBHLMMHBHLMMONJDZNP\n",
      "3 25 YSYCDDYSYCDDFEAUQEG\n",
      "5 1 OAOGRROAOGRRNCKWECY\n",
      "5 2 TFTLWWTFTLWWSHPBJHD\n",
      "5 3 YKYQBBYKYQBBXMUGOMI\n",
      "5 4 DPDVGGDPDVGGCRZLTRN\n",
      "5 5 IUIALLIUIALLHWEQYWS\n",
      "5 6 NZNFQQNZNFQQMBJVDBX\n",
      "5 7 SESKVVSESKVVRGOAIGC\n",
      "5 8 XJXPAAXJXPAAWLTFNLH\n",
      "5 9 COCUFFCOCUFFBQYKSQM\n",
      "5 10 HTHZKKHTHZKKGVDPXVR\n",
      "5 11 MYMEPPMYMEPPLAIUCAW\n",
      "5 12 RDRJUURDRJUUQFNZHFB\n",
      "5 13 WIWOZZWIWOZZVKSEMKG\n",
      "5 14 BNBTEEBNBTEEAPXJRPL\n",
      "5 15 GSGYJJGSGYJJFUCOWUQ\n",
      "5 16 LXLDOOLXLDOOKZHTBZV\n",
      "5 17 QCQITTQCQITTPEMYGEA\n",
      "5 18 VHVNYYVHVNYYUJRDLJF\n",
      "5 19 AMASDDAMASDDZOWIQOK\n",
      "5 20 FRFXIIFRFXIIETBNVTP\n",
      "5 21 KWKCNNKWKCNNJYGSAYU\n",
      "5 22 PBPHSSPBPHSSODLXFDZ\n",
      "5 23 UGUMXXUGUMXXTIQCKIE\n",
      "5 24 ZLZRCCZLZRCCYNVHPNJ\n",
      "5 25 EQEWHHEQEWHHDSAMUSO\n",
      "7 1 KAKIBBKAKIBBNUWMOUG\n",
      "7 2 VLVTMMVLVTMMYFHXZFR\n",
      "7 3 GWGEXXGWGEXXJQSIKQC\n",
      "7 4 RHRPIIRHRPIIUBDTVBN\n",
      "7 5 CSCATTCSCATTFMOEGMY\n",
      "7 6 NDNLEENDNLEEQXZPRXJ\n",
      "7 7 YOYWPPYOYWPPBIKACIU\n",
      "7 8 JZJHAAJZJHAAMTVLNTF\n",
      "7 9 UKUSLLUKUSLLXEGWYEQ\n",
      "7 10 FVFDWWFVFDWWIPRHJPB\n",
      "7 11 QGQOHHQGQOHHTACSUAM\n",
      "7 12 BRBZSSBRBZSSELNDFLX\n",
      "7 13 MCMKDDMCMKDDPWYOQWI\n",
      "7 14 XNXVOOXNXVOOAHJZBHT\n",
      "7 15 IYIGZZIYIGZZLSUKMSE\n",
      "7 16 TJTRKKTJTRKKWDFVXDP\n",
      "7 17 EUECVVEUECVVHOQGIOA\n",
      "7 18 PFPNGGPFPNGGSZBRTZL\n",
      "7 19 AQAYRRAQAYRRDKMCEKW\n",
      "7 20 LBLJCCLBLJCCOVXNPVH\n",
      "7 21 WMWUNNWMWUNNZGIYAGS\n",
      "7 22 HXHFYYHXHFYYKRTJLRD\n",
      "7 23 SISQJJSISQJJVCEUWCO\n",
      "7 24 DTDBUUDTDBUUGNPFHNZ\n",
      "7 25 OEOMFFOEOMFFRYAQSYK\n",
      "9 1 CACMVVCACMVVNEUSIEW\n",
      "9 2 ZXZJSSZXZJSSKBRPFBT\n",
      "9 3 WUWGPPWUWGPPHYOMCYQ\n",
      "9 4 TRTDMMTRTDMMEVLJZVN\n",
      "9 5 QOQAJJQOQAJJBSIGWSK\n",
      "9 6 NLNXGGNLNXGGYPFDTPH\n",
      "9 7 KIKUDDKIKUDDVMCAQME\n",
      "9 8 HFHRAAHFHRAASJZXNJB\n",
      "9 9 ECEOXXECEOXXPGWUKGY\n",
      "9 10 BZBLUUBZBLUUMDTRHDV\n",
      "9 11 YWYIRRYWYIRRJAQOEAS\n",
      "9 12 VTVFOOVTVFOOGXNLBXP\n",
      "9 13 SQSCLLSQSCLLDUKIYUM\n",
      "9 14 PNPZIIPNPZIIARHFVRJ\n",
      "9 15 MKMWFFMKMWFFXOECSOG\n",
      "9 16 JHJTCCJHJTCCULBZPLD\n",
      "9 17 GEGQZZGEGQZZRIYWMIA\n",
      "9 18 DBDNWWDBDNWWOFVTJFX\n",
      "9 19 AYAKTTAYAKTTLCSQGCU\n",
      "9 20 XVXHQQXVXHQQIZPNDZR\n",
      "9 21 USUENNUSUENNFWMKAWO\n",
      "9 22 RPRBKKRPRBKKCTJHXTL\n",
      "9 23 OMOYHHOMOYHHZQGEUQI\n",
      "9 24 LJLVEELJLVEEWNDBRNF\n",
      "9 25 IGISBBIGISBBTKAYOKC\n",
      "11 1 EAEYDDEAEYDDNIOKQIS\n",
      "11 2 LHLFKKLHLFKKUPVRXPZ\n",
      "11 3 SOSMRRSOSMRRBWCYEWG\n",
      "11 4 ZVZTYYZVZTYYIDJFLDN\n",
      "11 5 GCGAFFGCGAFFPKQMSKU\n",
      "11 6 NJNHMMNJNHMMWRXTZRB\n",
      "11 7 UQUOTTUQUOTTDYEAGYI\n",
      "11 8 BXBVAABXBVAAKFLHNFP\n",
      "11 9 IEICHHIEICHHRMSOUMW\n",
      "11 10 PLPJOOPLPJOOYTZVBTD\n",
      "11 11 WSWQVVWSWQVVFAGCIAK\n",
      "11 12 DZDXCCDZDXCCMHNJPHR\n",
      "11 13 KGKEJJKGKEJJTOUQWOY\n",
      "11 14 RNRLQQRNRLQQAVBXDVF\n",
      "11 15 YUYSXXYUYSXXHCIEKCM\n",
      "11 16 FBFZEEFBFZEEOJPLRJT\n",
      "11 17 MIMGLLMIMGLLVQWSYQA\n",
      "11 18 TPTNSSTPTNSSCXDZFXH\n",
      "11 19 AWAUZZAWAUZZJEKGMEO\n",
      "11 20 HDHBGGHDHBGGQLRNTLV\n",
      "11 21 OKOINNOKOINNXSYUASC\n",
      "11 22 VRVPUUVRVPUUEZFBHZJ\n",
      "11 23 CYCWBBCYCWBBLGMIOGQ\n",
      "11 24 JFJDIIJFJDIISNTPVNX\n",
      "11 25 QMQKPPQMQKPPZUAWCUE\n",
      "15 1 WAWCXXWAWCXXNSMQKSI\n",
      "15 2 PTPVQQPTPVQQGLFJDLB\n",
      "15 3 IMIOJJIMIOJJZEYCWEU\n",
      "15 4 BFBHCCBFBHCCSXRVPXN\n",
      "15 5 UYUAVVUYUAVVLQKOIQG\n",
      "15 6 NRNTOONRNTOOEJDHBJZ\n",
      "15 7 GKGMHHGKGMHHXCWAUCS\n",
      "15 8 ZDZFAAZDZFAAQVPTNVL\n",
      "15 9 SWSYTTSWSYTTJOIMGOE\n",
      "15 10 LPLRMMLPLRMMCHBFZHX\n",
      "15 11 EIEKFFEIEKFFVAUYSAQ\n",
      "15 12 XBXDYYXBXDYYOTNRLTJ\n",
      "15 13 QUQWRRQUQWRRHMGKEMC\n",
      "15 14 JNJPKKJNJPKKAFZDXFV\n",
      "15 15 CGCIDDCGCIDDTYSWQYO\n",
      "15 16 VZVBWWVZVBWWMRLPJRH\n",
      "15 17 OSOUPPOSOUPPFKEICKA\n",
      "15 18 HLHNIIHLHNIIYDXBVDT\n",
      "15 19 AEAGBBAEAGBBRWQUOWM\n",
      "15 20 TXTZUUTXTZUUKPJNHPF\n",
      "15 21 MQMSNNMQMSNNDICGAIY\n",
      "15 22 FJFLGGFJFLGGWBVZTBR\n",
      "15 23 YCYEZZYCYEZZPUOSMUK\n",
      "15 24 RVRXSSRVRXSSINHLFND\n",
      "15 25 KOKQLLKOKQLLBGAEYGW\n",
      "17 1 YAYOFFYAYOFFNWGISWE\n",
      "17 2 BDBRIIBDBRIIQZJLVZH\n",
      "17 3 EGEULLEGEULLTCMOYCK\n",
      "17 4 HJHXOOHJHXOOWFPRBFN\n",
      "17 5 KMKARRKMKARRZISUEIQ\n",
      "17 6 NPNDUUNPNDUUCLVXHLT\n",
      "17 7 QSQGXXQSQGXXFOYAKOW\n",
      "17 8 TVTJAATVTJAAIRBDNRZ\n",
      "17 9 WYWMDDWYWMDDLUEGQUC\n",
      "17 10 ZBZPGGZBZPGGOXHJTXF\n",
      "17 11 CECSJJCECSJJRAKMWAI\n",
      "17 12 FHFVMMFHFVMMUDNPZDL\n",
      "17 13 IKIYPPIKIYPPXGQSCGO\n",
      "17 14 LNLBSSLNLBSSAJTVFJR\n",
      "17 15 OQOEVVOQOEVVDMWYIMU\n",
      "17 16 RTRHYYRTRHYYGPZBLPX\n",
      "17 17 UWUKBBUWUKBBJSCEOSA\n",
      "17 18 XZXNEEXZXNEEMVFHRVD\n",
      "17 19 ACAQHHACAQHHPYIKUYG\n",
      "17 20 DFDTKKDFDTKKSBLNXBJ\n",
      "17 21 GIGWNNGIGWNNVEOQAEM\n",
      "17 22 JLJZQQJLJZQQYHRTDHP\n",
      "17 23 MOMCTTMOMCTTBKUWGKS\n",
      "17 24 PRPFWWPRPFWWENXZJNV\n",
      "17 25 SUSIZZSUSIZZHQACMQY\n",
      "19 1 QAQSZZQAQSZZNGEOMGU\n",
      "19 2 FPFHOOFPFHOOCVTDBVJ\n",
      "19 3 UEUWDDUEUWDDRKISQKY\n",
      "19 4 JTJLSSJTJLSSGZXHFZN\n",
      "19 5 YIYAHHYIYAHHVOMWUOC\n",
      "19 6 NXNPWWNXNPWWKDBLJDR\n",
      "19 7 CMCELLCMCELLZSQAYSG\n",
      "19 8 RBRTAARBRTAAOHFPNHV\n",
      "19 9 GQGIPPGQGIPPDWUECWK\n",
      "19 10 VFVXEEVFVXEESLJTRLZ\n",
      "19 11 KUKMTTKUKMTTHAYIGAO\n",
      "19 12 ZJZBIIZJZBIIWPNXVPD\n",
      "19 13 OYOQXXOYOQXXLECMKES\n",
      "19 14 DNDFMMDNDFMMATRBZTH\n",
      "19 15 SCSUBBSCSUBBPIGQOIW\n",
      "19 16 HRHJQQHRHJQQEXVFDXL\n",
      "19 17 WGWYFFWGWYFFTMKUSMA\n",
      "19 18 LVLNUULVLNUUIBZJHBP\n",
      "19 19 AKACJJAKACJJXQOYWQE\n",
      "19 20 PZPRYYPZPRYYMFDNLFT\n",
      "19 21 EOEGNNEOEGNNBUSCAUI\n",
      "19 22 TDTVCCTDTVCCQJHRPJX\n",
      "19 23 ISIKRRISIKRRFYWGEYM\n",
      "19 24 XHXZGGXHXZGGUNLVTNB\n",
      "19 25 MWMOVVMWMOVVJCAKICQ\n",
      "21 1 MAMUJJMAMUJJNYQEWYC\n",
      "21 2 HVHPEEHVHPEEITLZRTX\n",
      "21 3 CQCKZZCQCKZZDOGUMOS\n",
      "21 4 XLXFUUXLXFUUYJBPHJN\n",
      "21 5 SGSAPPSGSAPPTEWKCEI\n",
      "21 6 NBNVKKNBNVKKOZRFXZD\n",
      "21 7 IWIQFFIWIQFFJUMASUY\n",
      "21 8 DRDLAADRDLAAEPHVNPT\n",
      "21 9 YMYGVVYMYGVVZKCQIKO\n",
      "21 10 THTBQQTHTBQQUFXLDFJ\n",
      "21 11 OCOWLLOCOWLLPASGYAE\n",
      "21 12 JXJRGGJXJRGGKVNBTVZ\n",
      "21 13 ESEMBBESEMBBFQIWOQU\n",
      "21 14 ZNZHWWZNZHWWALDRJLP\n",
      "21 15 UIUCRRUIUCRRVGYMEGK\n",
      "21 16 PDPXMMPDPXMMQBTHZBF\n",
      "21 17 KYKSHHKYKSHHLWOCUWA\n",
      "21 18 FTFNCCFTFNCCGRJXPRV\n",
      "21 19 AOAIXXAOAIXXBMESKMQ\n",
      "21 20 VJVDSSVJVDSSWHZNFHL\n",
      "21 21 QEQYNNQEQYNNRCUIACG\n",
      "21 22 LZLTIILZLTIIMXPDVXB\n",
      "21 23 GUGODDGUGODDHSKYQSW\n",
      "21 24 BPBJYYBPBJYYCNFTLNR\n",
      "21 25 WKWETTWKWETTXIAOGIM\n",
      "23 1 UAUQPPUAUQPPNOSYCOM\n",
      "23 2 DJDZYYDJDZYYWXBHLXV\n",
      "23 3 MSMIHHMSMIHHFGKQUGE\n",
      "23 4 VBVRQQVBVRQQOPTZDPN\n",
      "23 5 EKEAZZEKEAZZXYCIMYW\n",
      "23 6 NTNJIINTNJIIGHLRVHF\n",
      "23 7 WCWSRRWCWSRRPQUAEQO\n",
      "23 8 FLFBAAFLFBAAYZDJNZX\n",
      "23 9 OUOKJJOUOKJJHIMSWIG\n",
      "23 10 XDXTSSXDXTSSQRVBFRP\n",
      "23 11 GMGCBBGMGCBBZAEKOAY\n",
      "23 12 PVPLKKPVPLKKIJNTXJH\n",
      "23 13 YEYUTTYEYUTTRSWCGSQ\n",
      "23 14 HNHDCCHNHDCCABFLPBZ\n",
      "23 15 QWQMLLQWQMLLJKOUYKI\n",
      "23 16 ZFZVUUZFZVUUSTXDHTR\n",
      "23 17 IOIEDDIOIEDDBCGMQCA\n",
      "23 18 RXRNMMRXRNMMKLPVZLJ\n",
      "23 19 AGAWVVAGAWVVTUYEIUS\n",
      "23 20 JPJFEEJPJFEECDHNRDB\n",
      "23 21 SYSONNSYSONNLMQWAMK\n",
      "23 22 BHBXWWBHBXWWUVZFJVT\n",
      "23 23 KQKGFFKQKGFFDEIOSEC\n",
      "23 24 TZTPOOTZTPOOMNRXBNL\n",
      "23 25 CICYXXCICYXXVWAGKWU\n",
      "25 1 IAIWTTIAIWTTNQCUGQK\n",
      "25 2 JBJXUUJBJXUUORDVHRL\n",
      "25 3 KCKYVVKCKYVVPSEWISM\n",
      "25 4 LDLZWWLDLZWWQTFXJTN\n",
      "25 5 MEMAXXMEMAXXRUGYKUO\n",
      "25 6 NFNBYYNFNBYYSVHZLVP\n",
      "25 7 OGOCZZOGOCZZTWIAMWQ\n",
      "25 8 PHPDAAPHPDAAUXJBNXR\n",
      "25 9 QIQEBBQIQEBBVYKCOYS\n",
      "25 10 RJRFCCRJRFCCWZLDPZT\n",
      "25 11 SKSGDDSKSGDDXAMEQAU\n",
      "25 12 TLTHEETLTHEEYBNFRBV\n",
      "25 13 UMUIFFUMUIFFZCOGSCW\n",
      "25 14 VNVJGGVNVJGGADPHTDX\n",
      "25 15 WOWKHHWOWKHHBEQIUEY\n",
      "25 16 XPXLIIXPXLIICFRJVFZ\n",
      "25 17 YQYMJJYQYMJJDGSKWGA\n",
      "25 18 ZRZNKKZRZNKKEHTLXHB\n",
      "25 19 ASAOLLASAOLLFIUMYIC\n",
      "25 20 BTBPMMBTBPMMGJVNZJD\n",
      "25 21 CUCQNNCUCQNNHKWOAKE\n",
      "25 22 DVDROODVDROOILXPBLF\n",
      "25 23 EWESPPEWESPPJMYQCMG\n",
      "25 24 FXFTQQFXFTQQKNZRDNH\n",
      "25 25 GYGURRGYGURRLOASEOI\n",
      "\n",
      "\n",
      "enc3 \t=\tTBTFIITBTFIIOLZHVLR\n"
     ]
    }
   ],
   "source": [
    "# Ερώτημα 1 Test\n",
    "\n",
    "plaintext = 'WEWILLWEWILLROCKYOU'\n",
    "\n",
    "# Κλειδιά για κρυπταλγόριθμο 1\n",
    "key1a = 5\n",
    "key1b = 15\n",
    "\n",
    "# Κλειδιά για κρυπταλγόριθμο 2\n",
    "key2a = 21\n",
    "key2b = 20\n",
    "\n",
    "# Τα κλειδιά a έχουν επιλεχθεί από το σύνολο των σχετικά πρώτων αριθμών με το 26 (phi).\n",
    "\n",
    "# Ορισμός συνάρτησης κρυπτογράφησης\n",
    "def affine_enc(m,key1,key2):\n",
    "    # Κρυπτογράφηση Ομοποραλληλικού\n",
    "    pln = str2lst(m)\n",
    "    pln2 = [(key1*x+key2)%26 for x in pln]\n",
    "    ctx = lst2str(pln2)\n",
    "    return ctx\n",
    "\n",
    "# Κρυπτογράφηση με τον πρώτο κρυπταλγόριθμο.\n",
    "ctx1 = affine_enc(plaintext, key1a, key1b) # ctx1 = 'VJVDSSVJVDSSWHZNFHL'\n",
    "print \"Cipher 1: \\t=\\t\", ctx1 \n",
    "\n",
    "# Κρυπτογράφηση του αποτελέσματος του πρώτου με τον δεύτερο κρυπταλγόριθμο (διπλή κρυπτογράφηση).\n",
    "ctx2 = affine_enc(ctx1, key2a, key2b) # ctx2 = 'TBTFIITBTFIIOLZHVLR'\n",
    "print \"\\n\\nCipher 2: \\t=\\t\", ctx2\n",
    "\n",
    "phi=[k for k in range(1,27) if gcd(k,26)==1] \n",
    "\n",
    "print \"\\n\\nBrute Force για εύρεση πιθανών κλειδιών:\\n\"\n",
    "count = 0 # Αριθμός πιθανών κλειδιών\n",
    "for i in phi:\n",
    "    for j in range(1,26):\n",
    "            print i, j, affine_dec(ctx2,i,j)\n",
    "            count += 1;\n",
    "            \n",
    "# Από την παραπάνω κρυπτανάλυση μπορούμε να δούμε ότι τα κλειδιά a=1 και b=23 μας δίνουν\n",
    "# το αρχικό μας κείμενο 'WEWILLWEWILLROCKYOU'\n",
    "\n",
    "# Αυτό σημαίνει ότι αν κρυπτογραφήσουμε το αρχικό μας κείμενο με τα κλειδιά 1 και 23\n",
    "# θα πρέπει να πάρουμε ίδιο αποτέλεσμα με την προηγούμενη διπλή κρυπτογράφηση.\n",
    "\n",
    "key3a = 1\n",
    "key3b = 23\n",
    "\n",
    "ctx3 = affine_enc(plaintext, key3a, key3b) # ctx3 = 'TBTFIITBTFIIOLZHVLR'\n",
    "print \"\\n\\nenc3 \\t=\\t\", ctx3\n"
   ]
  },
  {
   "cell_type": "markdown",
   "metadata": {},
   "source": [
    "Αρα υπάρχει κρυπταλγόριθμος $e_{k3} = a_3x+b_3$ με κλειδιά 1 και 23 ο οποίος εκτελεί ακριβώς την ίδια κρυπτογράφηση (και αποκρυπτογράφηση) όπως ο συνδυασμός  $e_{k2}(e_{k1}(x))$."
   ]
  },
  {
   "cell_type": "markdown",
   "metadata": {},
   "source": [
    "### Ερώτημα 2"
   ]
  },
  {
   "cell_type": "code",
   "execution_count": 10,
   "metadata": {
    "collapsed": false
   },
   "outputs": [
    {
     "name": "stdout",
     "output_type": "stream",
     "text": [
      "Cipher 1: \t=\tTRTDMMTRTDMMEVLJZVN\n",
      "\n",
      "\n",
      "Cipher 2: \t=\tIMIOJJIMIOJJZEYCWEU\n",
      "1 1 HLHNIIHLHNIIYDXBVDT\n",
      "1 2 GKGMHHGKGMHHXCWAUCS\n",
      "1 3 FJFLGGFJFLGGWBVZTBR\n",
      "1 4 EIEKFFEIEKFFVAUYSAQ\n",
      "1 5 DHDJEEDHDJEEUZTXRZP\n",
      "1 6 CGCIDDCGCIDDTYSWQYO\n",
      "1 7 BFBHCCBFBHCCSXRVPXN\n",
      "1 8 AEAGBBAEAGBBRWQUOWM\n",
      "1 9 ZDZFAAZDZFAAQVPTNVL\n",
      "1 10 YCYEZZYCYEZZPUOSMUK\n",
      "1 11 XBXDYYXBXDYYOTNRLTJ\n",
      "1 12 WAWCXXWAWCXXNSMQKSI\n",
      "1 13 VZVBWWVZVBWWMRLPJRH\n",
      "1 14 UYUAVVUYUAVVLQKOIQG\n",
      "1 15 TXTZUUTXTZUUKPJNHPF\n",
      "1 16 SWSYTTSWSYTTJOIMGOE\n",
      "1 17 RVRXSSRVRXSSINHLFND\n",
      "1 18 QUQWRRQUQWRRHMGKEMC\n",
      "1 19 PTPVQQPTPVQQGLFJDLB\n",
      "1 20 OSOUPPOSOUPPFKEICKA\n",
      "1 21 NRNTOONRNTOOEJDHBJZ\n",
      "1 22 MQMSNNMQMSNNDICGAIY\n",
      "1 23 LPLRMMLPLRMMCHBFZHX\n",
      "1 24 KOKQLLKOKQLLBGAEYGW\n",
      "1 25 JNJPKKJNJPKKAFZDXFV\n",
      "3 1 LVLNUULVLNUUIBZJHBP\n",
      "3 2 CMCELLCMCELLZSQAYSG\n",
      "3 3 TDTVCCTDTVCCQJHRPJX\n",
      "3 4 KUKMTTKUKMTTHAYIGAO\n",
      "3 5 BLBDKKBLBDKKYRPZXRF\n",
      "3 6 SCSUBBSCSUBBPIGQOIW\n",
      "3 7 JTJLSSJTJLSSGZXHFZN\n",
      "3 8 AKACJJAKACJJXQOYWQE\n",
      "3 9 RBRTAARBRTAAOHFPNHV\n",
      "3 10 ISIKRRISIKRRFYWGEYM\n",
      "3 11 ZJZBIIZJZBIIWPNXVPD\n",
      "3 12 QAQSZZQAQSZZNGEOMGU\n",
      "3 13 HRHJQQHRHJQQEXVFDXL\n",
      "3 14 YIYAHHYIYAHHVOMWUOC\n",
      "3 15 PZPRYYPZPRYYMFDNLFT\n",
      "3 16 GQGIPPGQGIPPDWUECWK\n",
      "3 17 XHXZGGXHXZGGUNLVTNB\n",
      "3 18 OYOQXXOYOQXXLECMKES\n",
      "3 19 FPFHOOFPFHOOCVTDBVJ\n",
      "3 20 WGWYFFWGWYFFTMKUSMA\n",
      "3 21 NXNPWWNXNPWWKDBLJDR\n",
      "3 22 EOEGNNEOEGNNBUSCAUI\n",
      "3 23 VFVXEEVFVXEESLJTRLZ\n",
      "3 24 MWMOVVMWMOVVJCAKICQ\n",
      "3 25 DNDFMMDNDFMMATRBZTH\n",
      "5 1 RXRNMMRXRNMMKLPVZLJ\n",
      "5 2 WCWSRRWCWSRRPQUAEQO\n",
      "5 3 BHBXWWBHBXWWUVZFJVT\n",
      "5 4 GMGCBBGMGCBBZAEKOAY\n",
      "5 5 LRLHGGLRLHGGEFJPTFD\n",
      "5 6 QWQMLLQWQMLLJKOUYKI\n",
      "5 7 VBVRQQVBVRQQOPTZDPN\n",
      "5 8 AGAWVVAGAWVVTUYEIUS\n",
      "5 9 FLFBAAFLFBAAYZDJNZX\n",
      "5 10 KQKGFFKQKGFFDEIOSEC\n",
      "5 11 PVPLKKPVPLKKIJNTXJH\n",
      "5 12 UAUQPPUAUQPPNOSYCOM\n",
      "5 13 ZFZVUUZFZVUUSTXDHTR\n",
      "5 14 EKEAZZEKEAZZXYCIMYW\n",
      "5 15 JPJFEEJPJFEECDHNRDB\n",
      "5 16 OUOKJJOUOKJJHIMSWIG\n",
      "5 17 TZTPOOTZTPOOMNRXBNL\n",
      "5 18 YEYUTTYEYUTTRSWCGSQ\n",
      "5 19 DJDZYYDJDZYYWXBHLXV\n",
      "5 20 IOIEDDIOIEDDBCGMQCA\n",
      "5 21 NTNJIINTNJIIGHLRVHF\n",
      "5 22 SYSONNSYSONNLMQWAMK\n",
      "5 23 XDXTSSXDXTSSQRVBFRP\n",
      "5 24 CICYXXCICYXXVWAGKWU\n",
      "5 25 HNHDCCHNHDCCABFLPBZ\n",
      "7 1 BJBNQQBJBNQQWTHPDTZ\n",
      "7 2 MUMYBBMUMYBBHESAOEK\n",
      "7 3 XFXJMMXFXJMMSPDLZPV\n",
      "7 4 IQIUXXIQIUXXDAOWKAG\n",
      "7 5 TBTFIITBTFIIOLZHVLR\n",
      "7 6 EMEQTTEMEQTTZWKSGWC\n",
      "7 7 PXPBEEPXPBEEKHVDRHN\n",
      "7 8 AIAMPPAIAMPPVSGOCSY\n",
      "7 9 LTLXAALTLXAAGDRZNDJ\n",
      "7 10 WEWILLWEWILLROCKYOU\n",
      "7 11 HPHTWWHPHTWWCZNVJZF\n",
      "7 12 SASEHHSASEHHNKYGUKQ\n",
      "7 13 DLDPSSDLDPSSYVJRFVB\n",
      "7 14 OWOADDOWOADDJGUCQGM\n",
      "7 15 ZHZLOOZHZLOOURFNBRX\n",
      "7 16 KSKWZZKSKWZZFCQYMCI\n",
      "7 17 VDVHKKVDVHKKQNBJXNT\n",
      "7 18 GOGSVVGOGSVVBYMUIYE\n",
      "7 19 RZRDGGRZRDGGMJXFTJP\n",
      "7 20 CKCORRCKCORRXUIQEUA\n",
      "7 21 NVNZCCNVNZCCIFTBPFL\n",
      "7 22 YGYKNNYGYKNNTQEMAQW\n",
      "7 23 JRJVYYJRJVYYEBPXLBH\n",
      "7 24 UCUGJJUCUGJJPMAIWMS\n",
      "7 25 FNFRUUFNFRUUAXLTHXD\n",
      "9 1 VHVNYYVHVNYYUJRDLJF\n",
      "9 2 SESKVVSESKVVRGOAIGC\n",
      "9 3 PBPHSSPBPHSSODLXFDZ\n",
      "9 4 MYMEPPMYMEPPLAIUCAW\n",
      "9 5 JVJBMMJVJBMMIXFRZXT\n",
      "9 6 GSGYJJGSGYJJFUCOWUQ\n",
      "9 7 DPDVGGDPDVGGCRZLTRN\n",
      "9 8 AMASDDAMASDDZOWIQOK\n",
      "9 9 XJXPAAXJXPAAWLTFNLH\n",
      "9 10 UGUMXXUGUMXXTIQCKIE\n",
      "9 11 RDRJUURDRJUUQFNZHFB\n",
      "9 12 OAOGRROAOGRRNCKWECY\n",
      "9 13 LXLDOOLXLDOOKZHTBZV\n",
      "9 14 IUIALLIUIALLHWEQYWS\n",
      "9 15 FRFXIIFRFXIIETBNVTP\n",
      "9 16 COCUFFCOCUFFBQYKSQM\n",
      "9 17 ZLZRCCZLZRCCYNVHPNJ\n",
      "9 18 WIWOZZWIWOZZVKSEMKG\n",
      "9 19 TFTLWWTFTLWWSHPBJHD\n",
      "9 20 QCQITTQCQITTPEMYGEA\n",
      "9 21 NZNFQQNZNFQQMBJVDBX\n",
      "9 22 KWKCNNKWKCNNJYGSAYU\n",
      "9 23 HTHZKKHTHZKKGVDPXVR\n",
      "9 24 EQEWHHEQEWHHDSAMUSO\n",
      "9 25 BNBTEEBNBTEEAPXJRPL\n",
      "11 1 DBDNWWDBDNWWOFVTJFX\n",
      "11 2 KIKUDDKIKUDDVMCAQME\n",
      "11 3 RPRBKKRPRBKKCTJHXTL\n",
      "11 4 YWYIRRYWYIRRJAQOEAS\n",
      "11 5 FDFPYYFDFPYYQHXVLHZ\n",
      "11 6 MKMWFFMKMWFFXOECSOG\n",
      "11 7 TRTDMMTRTDMMEVLJZVN\n",
      "11 8 AYAKTTAYAKTTLCSQGCU\n",
      "11 9 HFHRAAHFHRAASJZXNJB\n",
      "11 10 OMOYHHOMOYHHZQGEUQI\n",
      "11 11 VTVFOOVTVFOOGXNLBXP\n",
      "11 12 CACMVVCACMVVNEUSIEW\n",
      "11 13 JHJTCCJHJTCCULBZPLD\n",
      "11 14 QOQAJJQOQAJJBSIGWSK\n",
      "11 15 XVXHQQXVXHQQIZPNDZR\n",
      "11 16 ECEOXXECEOXXPGWUKGY\n",
      "11 17 LJLVEELJLVEEWNDBRNF\n",
      "11 18 SQSCLLSQSCLLDUKIYUM\n",
      "11 19 ZXZJSSZXZJSSKBRPFBT\n",
      "11 20 GEGQZZGEGQZZRIYWMIA\n",
      "11 21 NLNXGGNLNXGGYPFDTPH\n",
      "11 22 USUENNUSUENNFWMKAWO\n",
      "11 23 BZBLUUBZBLUUMDTRHDV\n",
      "11 24 IGISBBIGISBBTKAYOKC\n",
      "11 25 PNPZIIPNPZIIARHFVRJ\n",
      "15 1 XZXNEEXZXNEEMVFHRVD\n",
      "15 2 QSQGXXQSQGXXFOYAKOW\n",
      "15 3 JLJZQQJLJZQQYHRTDHP\n",
      "15 4 CECSJJCECSJJRAKMWAI\n",
      "15 5 VXVLCCVXVLCCKTDFPTB\n",
      "15 6 OQOEVVOQOEVVDMWYIMU\n",
      "15 7 HJHXOOHJHXOOWFPRBFN\n",
      "15 8 ACAQHHACAQHHPYIKUYG\n",
      "15 9 TVTJAATVTJAAIRBDNRZ\n",
      "15 10 MOMCTTMOMCTTBKUWGKS\n",
      "15 11 FHFVMMFHFVMMUDNPZDL\n",
      "15 12 YAYOFFYAYOFFNWGISWE\n",
      "15 13 RTRHYYRTRHYYGPZBLPX\n",
      "15 14 KMKARRKMKARRZISUEIQ\n",
      "15 15 DFDTKKDFDTKKSBLNXBJ\n",
      "15 16 WYWMDDWYWMDDLUEGQUC\n",
      "15 17 PRPFWWPRPFWWENXZJNV\n",
      "15 18 IKIYPPIKIYPPXGQSCGO\n",
      "15 19 BDBRIIBDBRIIQZJLVZH\n",
      "15 20 UWUKBBUWUKBBJSCEOSA\n",
      "15 21 NPNDUUNPNDUUCLVXHLT\n",
      "15 22 GIGWNNGIGWNNVEOQAEM\n",
      "15 23 ZBZPGGZBZPGGOXHJTXF\n",
      "15 24 SUSIZZSUSIZZHQACMQY\n",
      "15 25 LNLBSSLNLBSSAJTVFJR\n",
      "17 1 FTFNCCFTFNCCGRJXPRV\n",
      "17 2 IWIQFFIWIQFFJUMASUY\n",
      "17 3 LZLTIILZLTIIMXPDVXB\n",
      "17 4 OCOWLLOCOWLLPASGYAE\n",
      "17 5 RFRZOORFRZOOSDVJBDH\n",
      "17 6 UIUCRRUIUCRRVGYMEGK\n",
      "17 7 XLXFUUXLXFUUYJBPHJN\n",
      "17 8 AOAIXXAOAIXXBMESKMQ\n",
      "17 9 DRDLAADRDLAAEPHVNPT\n",
      "17 10 GUGODDGUGODDHSKYQSW\n",
      "17 11 JXJRGGJXJRGGKVNBTVZ\n",
      "17 12 MAMUJJMAMUJJNYQEWYC\n",
      "17 13 PDPXMMPDPXMMQBTHZBF\n",
      "17 14 SGSAPPSGSAPPTEWKCEI\n",
      "17 15 VJVDSSVJVDSSWHZNFHL\n",
      "17 16 YMYGVVYMYGVVZKCQIKO\n",
      "17 17 BPBJYYBPBJYYCNFTLNR\n",
      "17 18 ESEMBBESEMBBFQIWOQU\n",
      "17 19 HVHPEEHVHPEEITLZRTX\n",
      "17 20 KYKSHHKYKSHHLWOCUWA\n",
      "17 21 NBNVKKNBNVKKOZRFXZD\n",
      "17 22 QEQYNNQEQYNNRCUIACG\n",
      "17 23 THTBQQTHTBQQUFXLDFJ\n",
      "17 24 WKWETTWKWETTXIAOGIM\n",
      "17 25 ZNZHWWZNZHWWALDRJLP\n",
      "19 1 ZRZNKKZRZNKKEHTLXHB\n",
      "19 2 OGOCZZOGOCZZTWIAMWQ\n",
      "19 3 DVDROODVDROOILXPBLF\n",
      "19 4 SKSGDDSKSGDDXAMEQAU\n",
      "19 5 HZHVSSHZHVSSMPBTFPJ\n",
      "19 6 WOWKHHWOWKHHBEQIUEY\n",
      "19 7 LDLZWWLDLZWWQTFXJTN\n",
      "19 8 ASAOLLASAOLLFIUMYIC\n",
      "19 9 PHPDAAPHPDAAUXJBNXR\n",
      "19 10 EWESPPEWESPPJMYQCMG\n",
      "19 11 TLTHEETLTHEEYBNFRBV\n",
      "19 12 IAIWTTIAIWTTNQCUGQK\n",
      "19 13 XPXLIIXPXLIICFRJVFZ\n",
      "19 14 MEMAXXMEMAXXRUGYKUO\n",
      "19 15 BTBPMMBTBPMMGJVNZJD\n",
      "19 16 QIQEBBQIQEBBVYKCOYS\n",
      "19 17 FXFTQQFXFTQQKNZRDNH\n",
      "19 18 UMUIFFUMUIFFZCOGSCW\n",
      "19 19 JBJXUUJBJXUUORDVHRL\n",
      "19 20 YQYMJJYQYMJJDGSKWGA\n",
      "19 21 NFNBYYNFNBYYSVHZLVP\n",
      "19 22 CUCQNNCUCQNNHKWOAKE\n",
      "19 23 RJRFCCRJRFCCWZLDPZT\n",
      "19 24 GYGURRGYGURRLOASEOI\n",
      "19 25 VNVJGGVNVJGGADPHTDX\n",
      "21 1 JDJNOOJDJNOOQPLFBPR\n",
      "21 2 EYEIJJEYEIJJLKGAWKM\n",
      "21 3 ZTZDEEZTZDEEGFBVRFH\n",
      "21 4 UOUYZZUOUYZZBAWQMAC\n",
      "21 5 PJPTUUPJPTUUWVRLHVX\n",
      "21 6 KEKOPPKEKOPPRQMGCQS\n",
      "21 7 FZFJKKFZFJKKMLHBXLN\n",
      "21 8 AUAEFFAUAEFFHGCWSGI\n",
      "21 9 VPVZAAVPVZAACBXRNBD\n",
      "21 10 QKQUVVQKQUVVXWSMIWY\n",
      "21 11 LFLPQQLFLPQQSRNHDRT\n",
      "21 12 GAGKLLGAGKLLNMICYMO\n",
      "21 13 BVBFGGBVBFGGIHDXTHJ\n",
      "21 14 WQWABBWQWABBDCYSOCE\n",
      "21 15 RLRVWWRLRVWWYXTNJXZ\n",
      "21 16 MGMQRRMGMQRRTSOIESU\n",
      "21 17 HBHLMMHBHLMMONJDZNP\n",
      "21 18 CWCGHHCWCGHHJIEYUIK\n",
      "21 19 XRXBCCXRXBCCEDZTPDF\n",
      "21 20 SMSWXXSMSWXXZYUOKYA\n",
      "21 21 NHNRSSNHNRSSUTPJFTV\n",
      "21 22 ICIMNNICIMNNPOKEAOQ\n",
      "21 23 DXDHIIDXDHIIKJFZVJL\n",
      "21 24 YSYCDDYSYCDDFEAUQEG\n",
      "21 25 TNTXYYTNTXYYAZVPLZB\n",
      "23 1 PFPNGGPFPNGGSZBRTZL\n",
      "23 2 YOYWPPYOYWPPBIKACIU\n",
      "23 3 HXHFYYHXHFYYKRTJLRD\n",
      "23 4 QGQOHHQGQOHHTACSUAM\n",
      "23 5 ZPZXQQZPZXQQCJLBDJV\n",
      "23 6 IYIGZZIYIGZZLSUKMSE\n",
      "23 7 RHRPIIRHRPIIUBDTVBN\n",
      "23 8 AQAYRRAQAYRRDKMCEKW\n",
      "23 9 JZJHAAJZJHAAMTVLNTF\n",
      "23 10 SISQJJSISQJJVCEUWCO\n",
      "23 11 BRBZSSBRBZSSELNDFLX\n",
      "23 12 KAKIBBKAKIBBNUWMOUG\n",
      "23 13 TJTRKKTJTRKKWDFVXDP\n",
      "23 14 CSCATTCSCATTFMOEGMY\n",
      "23 15 LBLJCCLBLJCCOVXNPVH\n",
      "23 16 UKUSLLUKUSLLXEGWYEQ\n",
      "23 17 DTDBUUDTDBUUGNPFHNZ\n",
      "23 18 MCMKDDMCMKDDPWYOQWI\n",
      "23 19 VLVTMMVLVTMMYFHXZFR\n",
      "23 20 EUECVVEUECVVHOQGIOA\n",
      "23 21 NDNLEENDNLEEQXZPRXJ\n",
      "23 22 WMWUNNWMWUNNZGIYAGS\n",
      "23 23 FVFDWWFVFDWWIPRHJPB\n",
      "23 24 OEOMFFOEOMFFRYAQSYK\n",
      "23 25 XNXVOOXNXVOOAHJZBHT\n",
      "25 1 TPTNSSTPTNSSCXDZFXH\n",
      "25 2 UQUOTTUQUOTTDYEAGYI\n",
      "25 3 VRVPUUVRVPUUEZFBHZJ\n",
      "25 4 WSWQVVWSWQVVFAGCIAK\n",
      "25 5 XTXRWWXTXRWWGBHDJBL\n",
      "25 6 YUYSXXYUYSXXHCIEKCM\n",
      "25 7 ZVZTYYZVZTYYIDJFLDN\n",
      "25 8 AWAUZZAWAUZZJEKGMEO\n",
      "25 9 BXBVAABXBVAAKFLHNFP\n",
      "25 10 CYCWBBCYCWBBLGMIOGQ\n",
      "25 11 DZDXCCDZDXCCMHNJPHR\n",
      "25 12 EAEYDDEAEYDDNIOKQIS\n",
      "25 13 FBFZEEFBFZEEOJPLRJT\n",
      "25 14 GCGAFFGCGAFFPKQMSKU\n",
      "25 15 HDHBGGHDHBGGQLRNTLV\n",
      "25 16 IEICHHIEICHHRMSOUMW\n",
      "25 17 JFJDIIJFJDIISNTPVNX\n",
      "25 18 KGKEJJKGKEJJTOUQWOY\n",
      "25 19 LHLFKKLHLFKKUPVRXPZ\n",
      "25 20 MIMGLLMIMGLLVQWSYQA\n",
      "25 21 NJNHMMNJNHMMWRXTZRB\n",
      "25 22 OKOINNOKOINNXSYUASC\n",
      "25 23 PLPJOOPLPJOOYTZVBTD\n",
      "25 24 QMQKPPQMQKPPZUAWCUE\n",
      "25 25 RNRLQQRNRLQQAVBXDVF\n",
      "\n",
      "\n",
      "enc3 \t=\tIMIOJJIMIOJJZEYCWEU\n"
     ]
    }
   ],
   "source": [
    "# Ερώτημα 2. Βρείτε, για παράδειγμα, τις τιμές των  a3,b3 όταν  a1=3,b1=5 και  a2=11,b2=7.\n",
    "\n",
    "key1a = 3\n",
    "key1b = 5\n",
    "\n",
    "key2a = 11\n",
    "key2b = 7\n",
    "\n",
    "# Κρυπτογράφηση με τον πρώτο κρυπταλγόριθμο.\n",
    "ctx1 = affine_enc(plaintext, key1a, key1b) # ctx1 = 'TRTDMMTRTDMMEVLJZVN'\n",
    "print \"Cipher 1: \\t=\\t\", ctx1 \n",
    "\n",
    "# Κρυπτογράφηση του αποτελέσματος του πρώτου με τον δεύτερο κρυπταλγόριθμο (διπλή κρυπτογράφηση).\n",
    "ctx2 = affine_enc(ctx1, key2a, key2b) #ctx2 = 'IMIOJJIMIOJJZEYCWEU'\n",
    "print \"\\n\\nCipher 2: \\t=\\t\", ctx2\n",
    "\n",
    "phi=[k for k in range(1,27) if gcd(k,26)==1] # Βρίσκει σχετικά πρώτους αριθμούς με το 26.\n",
    "#print phi\n",
    "\n",
    "#print len(phi)\n",
    "count = 0 # Αριθμός πιθανών κλειδιών\n",
    "for i in phi:\n",
    "    for j in range(1,26):\n",
    "            print i, j, affine_dec(ctx2,i,j)\n",
    "            count += 1;\n",
    "            \n",
    "# Από την παραπάνω κρυπτανάλυση μπορούμε να δούμε ότι τα κλειδιά a=7 και b=10 μας δίνουν\n",
    "# το αρχικό μας κείμενο 'WEWILLWEWILLROCKYOU'\n",
    "\n",
    "# Αυτό σημαίνει ότι αν κρυπτογραφήσουμε το αρχικό μας κείμενο με τα κλειδιά 7 και 10\n",
    "# θα πρέπει να πάρουμε ίδιο αποτέλεσμα με την προηγούμενη διπλή κρυπτογράφηση.\n",
    "\n",
    "key3a = 7\n",
    "key3b = 10\n",
    "\n",
    "ctx3 = affine_enc(plaintext, key3a, key3b) # ctx3 = 'IMIOJJIMIOJJZEYCWEU'\n",
    "print \"\\n\\nenc3 \\t=\\t\", ctx3"
   ]
  },
  {
   "cell_type": "markdown",
   "metadata": {},
   "source": [
    "Οπότε τα κλειδιά $a_3$ και $b_3$ είναι 7 και 10 αντίστοιχα.\n",
    "\n",
    "Επίσης από την απόδειξη του ερωτήματος 1, μπορούμε να επαληθεύσουμε το αποτέλεσμα\n",
    "\n",
    "$a_3 = a_2a_1 = 33$ και $b_3 = a_2b_1 + b_2 = 62$\n",
    "\n",
    "$a_3 = 33mod26 = 7$\n",
    "$b_3 = 62mod26 = 10$"
   ]
  },
  {
   "cell_type": "markdown",
   "metadata": {},
   "source": [
    "### Ερώτημα 3"
   ]
  },
  {
   "cell_type": "code",
   "execution_count": 11,
   "metadata": {
    "collapsed": false
   },
   "outputs": [
    {
     "name": "stdout",
     "output_type": "stream",
     "text": [
      "enc1 \t=\tJ\n",
      "\n",
      "\n",
      "enc2 \t=\tC\n",
      "\n",
      "\n",
      "enc3 \t=\tC\n"
     ]
    }
   ],
   "source": [
    "# Ερώτημα 3 \n",
    "plaintext = 'K'\n",
    "\n",
    "ctx1 = affine_enc(plaintext, key1a, key1b) # ctx1 = 'J'\n",
    "print \"enc1 \\t=\\t\", ctx1\n",
    "\n",
    "ctx2 = affine_enc(ctx1, key2a, key2b) # ctx2 = 'C'\n",
    "print \"\\n\\nenc2 \\t=\\t\", ctx2\n",
    "\n",
    "ctx3 = affine_enc(plaintext, key3a, key3b) # ctx3 = 'C'\n",
    "print \"\\n\\nenc3 \\t=\\t\", ctx3\n",
    "\n",
    "# Παρατηρώ ότι το αποτέλεσμα της διπλής κρυπτογράφησης είναι το C, όπως επίσης C είναι και το \n",
    "# αποτέλεσμα της κρυπρογράφησης με τον τρίτο κρυπταλγόριθμο."
   ]
  },
  {
   "cell_type": "markdown",
   "metadata": {},
   "source": [
    "### Ερώτημα 4"
   ]
  },
  {
   "cell_type": "code",
   "execution_count": 12,
   "metadata": {
    "collapsed": false
   },
   "outputs": [
    {
     "name": "stdout",
     "output_type": "stream",
     "text": [
      "Το sort1 είναι ακριβώς το ίδιο με το sort2 και το μέγεθος του είναι:\n",
      "\n",
      "len(sort1) =\t300 \n",
      "len(sort2) =\t300\n"
     ]
    }
   ],
   "source": [
    "# Ερώτημα 4\n",
    "\n",
    "# Τα ctx2 και ctx3 φορτώνονται από το προηγούμενο ερώτημα.\n",
    "\n",
    "# Brute force για την διπλή κρυπτογράφηση και παράλληλα για την τρίτη κρυπτογράφηση.\n",
    "phi=[k for k in range(1,27) if gcd(k,26)==1] # Βρίσκει σχετικά πρώτους αριθμούς με το 26.\n",
    "#print phi\n",
    "\n",
    "#print len(phi)\n",
    "result1 = result2 = ''\n",
    "for i in phi:\n",
    "    for j in range(1,26):\n",
    "        result1 += affine_dec(ctx2,i,j) # Κλειδοχώρος για την διπλή κρυπτογράφηση.\n",
    "        result2 += affine_dec(ctx3,i,j) # Κλειδοχώρος για την τρίτη κρυπτογράφηση.\n",
    "\n",
    "sort1 = sorted(result1)\n",
    "sort2 = sorted(result2)\n",
    "\n",
    "if (sort1 == sort2):\n",
    "    print \"Το sort1 είναι ακριβώς το ίδιο με το sort2 και το μέγεθος του είναι:\\n\\nlen(sort1) =\\t\",len(sort1), \"\\nlen(sort2) =\\t\", len(sort2)\n",
    "else:\n",
    "    print \"Το sort1 είναι διαφορετικό με το sort2 και το μέγεθος του είναι:\\n\\nlen(sort1) =\\t\",len(sort1), \"\\nlen(sort2) =\\t\", len(sort2)\n"
   ]
  },
  {
   "cell_type": "markdown",
   "metadata": {},
   "source": [
    "Αυτό που παρατηρούμε είναι ότι ο κλειδοχώρος της διπλής κρυπτογράφησης είναι ακριβώς ο ίδιος με τον κλειδοχώρο της τρίτης κρυπτογράφησης."
   ]
  },
  {
   "cell_type": "markdown",
   "metadata": {},
   "source": [
    "### Άσκηση 5"
   ]
  },
  {
   "cell_type": "markdown",
   "metadata": {},
   "source": [
    "Θεωρήστε τον ομοπαραλληλικό κρυπταλγόριθμο με κλειδί $k = (k_1, k_2)$ του οποίου οι συναρτήσεις κρυπτογράφησης και αποκρυπτογράφησης ορίζονται από τις εξισώσεις:\n",
    "$$e_k(m)=(k_1m + k_2) \\bmod p$$\n",
    "και\n",
    "$$d_k(c)=k_1^{-1}(c-k_2) \\bmod p$$\n",
    "όπου $p$ θετικός ακέραιος και $k_1^{-1}$ ο αντίστροφος του $k_1 \\bmod p$.\n",
    "1. Έστω $p = 541$ και ότι το κλειδί είναι $k = (19, 128)$. Κρυπτογραφήστε το μήνυμα $m = 204$. Αποκρυπτογραφήστε το κρυπτοκείμενο $c = 431$.\n",
    "2. Υποθέτοντας ότι το $p$ είναι δημόσια γνωστό, εξηγήστε γιατί ο ομοπαραλληλικός κρυπταλγόριθμος είναι ευάλωτος σε μια επίθεση επιλεγμένου απλού κειμένου. Πόσα ζεύγη απλού κειμένου – κρυπτοκειμένου χρειάζονται ενδεχομένως προκειμένου να ανακτήσει ο αντίπαλος το κλειδί;\n",
    "3. Η Alice και ο Bob αποφασίζουν να χρησιμοποιήσουν τον πρώτο $p = 811$ για τον ομοπαραλληλικό τους κρυπταλγόριθμο. Η τιμή του $p$ είναι δημόσια γνωστή και η Eve υποκλέπτει τα κρυπτοκείμενα $c_1 = 324$ και $c_2 = 381$, και καταφέρνει να ανακαλύψει ότι τα αντίστοιχα απλά κείμενα είναι $m_1 = 251$ και $m_2 = 143$. Προσδιορίστε το κλειδί και στη συνέχεια χρησιμοποιήστε το για να κρυπτογραφήσετε το μήνυμα $m_3 = 354$."
   ]
  },
  {
   "cell_type": "markdown",
   "metadata": {},
   "source": [
    "### Απάντηση"
   ]
  },
  {
   "cell_type": "markdown",
   "metadata": {},
   "source": [
    "### Ερώτημα 1"
   ]
  },
  {
   "cell_type": "code",
   "execution_count": 13,
   "metadata": {
    "collapsed": false
   },
   "outputs": [
    {
     "name": "stdout",
     "output_type": "stream",
     "text": [
      "204 becomes --> 515\n",
      "515 becomes --> 204\n",
      "431 becomes --> 297\n"
     ]
    }
   ],
   "source": [
    "p = 541\n",
    "k1 = 34\n",
    "k2 = 71\n",
    "\n",
    "m  = 204\n",
    "c = 431\n",
    "\n",
    "# Ορίζω ξανά την κρυπτογράφηση και την αποκρυπτογράφηση για αριθμούς.\n",
    "def affine_number_enc (m, k1, k2, mod):\n",
    "    ctx = (k1*m+k2)%mod\n",
    "    return ctx\n",
    "\n",
    "def affine_number_dec (c, k1, k2, mod):\n",
    "    k1_inv = inverse_mod(k1, mod)\n",
    "    pln = k1_inv*(c-k2)%mod  \n",
    "    return pln\n",
    "\n",
    "# Κρυπτογράφηση του m = 204.\n",
    "ctx = affine_number_enc(m, k1, k2, p)  # ctc = 515\n",
    "print m, \"becomes -->\", ctx\n",
    "\n",
    "# Επαλήθευση\n",
    "pln = affine_number_dec(ctx, k1, k2, p)\n",
    "print ctx, \"becomes -->\", pln\n",
    "\n",
    "# Αποκρυπτογράφηση του 431\n",
    "ctx = 431\n",
    "\n",
    "pln = affine_number_dec(ctx, k1, k2, p) # pln = 297\n",
    "print ctx, \"becomes -->\", pln"
   ]
  },
  {
   "cell_type": "markdown",
   "metadata": {},
   "source": [
    "### Ερώτημα 2"
   ]
  },
  {
   "cell_type": "markdown",
   "metadata": {},
   "source": [
    "Εφόσον ξέρει κάποιος το $p$ έχει άλλους 2 αγνώστους τα κλειδιά $k1$ και $k2$. Επομένως αν έχει δύο ζεύγη τιμών απλού κειμένου-κρυπτοκειμένου, μπορεί να σχηματίσει ένα σύστημα 2 εξισώσεων με 2 αγνώστους και επιλύωντας το, να βρει τα $k1$ και $k2$. "
   ]
  },
  {
   "cell_type": "markdown",
   "metadata": {},
   "source": [
    "### Ερώτημα 3"
   ]
  },
  {
   "cell_type": "code",
   "execution_count": 14,
   "metadata": {
    "collapsed": false
   },
   "outputs": [
    {
     "name": "stdout",
     "output_type": "stream",
     "text": [
      "κ1 = 22 \n",
      "k2 = 479 \n",
      "\n",
      "354 becomes --> 157\n"
     ]
    }
   ],
   "source": [
    "p = 811\n",
    "Z = IntegerModRing(p)\n",
    "\n",
    "c1 = 324\n",
    "c2 = 381\n",
    "\n",
    "m1 = 251\n",
    "m2 = 143\n",
    "\n",
    "m3 = 354 # κρυπτογράφηση μετά.\n",
    "  \n",
    "def affine_analysis_num(p1, p2, c1, c2):\n",
    "    # c1=p1*k1+k2  and c2=p2*k1+k2\n",
    "    # 324=251k1+k2 and 381=143k1+k2\n",
    "    \n",
    "    A = matrix(Z, 2, 2, [p1, 1, p2, 1])\n",
    "    b = vector(Z, [c1, c2])\n",
    "    key = A.solve_right(b)  \n",
    "    phi=[k for k in range(1,812) if gcd(k,811)==1] # Βρίσκει σχετικά πρώτους αριθμούς με το 811.\n",
    "    for x in phi:\n",
    "        if (x == key[0]):\n",
    "            return key\n",
    "    print \"Key[0]\",key[0], \"is not Relatively Prime with 26!!!\"\n",
    "    #return key\n",
    "\n",
    "key = affine_analysis_num(m1, m2, c1, c2)\n",
    "print \"κ1 =\", ZZ(key[0]), \"\\nk2 =\", ZZ(key[1]), \"\\n\"\n",
    "\n",
    "# Κρυπτογράφηση του m3 = 354\n",
    "\n",
    "ctx = affine_number_enc(m3, ZZ(key[0]), ZZ(key[1]), p) # Η συνάρτηση ορίζεται στο ερώτημα 1.\n",
    "print m3, \"becomes -->\",ctx"
   ]
  },
  {
   "cell_type": "markdown",
   "metadata": {},
   "source": [
    "### Άσκηση 6"
   ]
  },
  {
   "cell_type": "markdown",
   "metadata": {},
   "source": [
    "Θεωρούμε ακέραιο $N \\geq 1$ και το αλφάβητο $\\Sigma = \\mathbb{Z}_N$. Θεωρούμε επίσης ένα απλό κείμενο $Μ = (Μ_1, Μ_2, \\ldots, Μ_n)$ ως μια ακολουθία της οποίας οι όροι είναι στο $\\Sigma$. Αναφερόμαστε στο $n$ ως το πλήθος των τμημάτων (μπλοκ) του απλού κειμένου. Ο αριθμός $Ν$ είναι δημόσιος, δηλ. γνωστός στους δύο χρήστες του συστήματος και στον αντίπαλο. Έστω τώρα το συμμετρικό σχήμα κρυπτογράφησης στο οποίο το κλειδί έχει τη μορφή $k = (a,b,c)$, όπου $b \\in \\mathbb{Z}_{N}^{*}$ και $a,c \\in \\mathbb{Z}_N$. Ο αλγόριθμος κρυπτογράφησης $\\mathcal{E}$ δέχεται ως είσοδο το κλειδί και ένα απλό κείμενο $Μ$ και επιστρέφει το κρυπτοκείμενο $C = (C_1, C_2, \\ldots, C_n)$ που υπολογίζεται ως εξής: $C_i = ai + bM_i +c$, $i \\in 1, \\ldots, n$.\n",
    "\n",
    "Να υλοποιήσετε τον παραπάνω κρυπταλγόριθμο για $N=26$ (αγγλικό αλφάβητο). Αναπτύξτε συνάρτηση για τη διαδικασία κρυπτογράφησης και αποκρυπτογράφησης. Η συνάρτηση κρυπτογράφησης θα δέχεται ως είσοδο την τιμή του κλειδιού $k=(a, b, c)$ και το αγγλικό κείμενο προς κρυπτογράφηση και θα εμφανίζει το κρυπτοκείμενο. Η συνάρτηση αποκρυπτογράφησης θα δέχεται ως είσοδο την τιμή του κλειδιού $k=(a, b, c)$ και το κρυπτοκείμενο και θα εμφανίζει το απλό κείμενο. Δημιουργήστε ένα σενάριο κρυπτανάλυσης όπου θα θεωρήσετε ότι έχει προηγηθεί επίθεση γνωστού απλού κειμένου οπότε και γνωρίζετε κατάλληλου μήκους απλό κείμενο και το αντίστοιχο κρυπτοκείμενο. Εν συνεχεία αναπτύξτε μια συνάρτηση κρυπτανάλυσης που θα δέχεται ως είσοδο το απλό κείμενο και κρυπτοκείμενο και θα επιστρέφει το κλειδί."
   ]
  },
  {
   "cell_type": "markdown",
   "metadata": {},
   "source": [
    "### Απάντηση"
   ]
  },
  {
   "cell_type": "code",
   "execution_count": 15,
   "metadata": {
    "collapsed": false
   },
   "outputs": [
    {
     "name": "stdout",
     "output_type": "stream",
     "text": [
      "TSITAS becomes --> FSQFGS\n",
      "FSQFGS becomes --> TSITAS\n"
     ]
    }
   ],
   "source": [
    "p = 26\n",
    "Z = IntegerModRing(p)\n",
    "m = \"TSITAS\"\n",
    "a = 6\n",
    "b = 19\n",
    "c = 2\n",
    "\n",
    "def check_b(b):\n",
    "    phi=[k for k in range(1,27) if gcd(k,26)==1] # Βρίσκει σχετικά πρώτους αριθμούς με το 26.\n",
    "    for i in phi:\n",
    "        if (i == b):\n",
    "            return \"ok\"\n",
    "    return \"Key b is not relatively prime with 26\"\n",
    "\n",
    "def custom_affine_enc(m, k1, k2, k3):\n",
    "    pln = str2lst(m)\n",
    "    pln2 = [(k1*(pln.index(x)+1)+k2*x+k3)%26 for x in pln]\n",
    "    ctx = lst2str(pln2)\n",
    "    return ctx\n",
    "\n",
    "def custom_affine_dec(ct, k1, k2, k3):\n",
    "    k2_inv = inverse_mod(k2, 26)\n",
    "    ctx = str2lst(ct)\n",
    "    ctx2 = [(k2_inv*(x-k3-(k1*(ctx.index(x)+1))))%26 for x in ctx]\n",
    "    pln = lst2str(ctx2)\n",
    "    return pln\n",
    "\n",
    "check = check_b(b)\n",
    "if (check == \"ok\"):\n",
    "    ctx = custom_affine_enc(m, a, b, c)\n",
    "    print m, \"becomes -->\",ctx\n",
    "    print ctx, \"becomes -->\", custom_affine_dec(ctx, a, b, c)\n",
    "else:\n",
    "    print check"
   ]
  },
  {
   "cell_type": "code",
   "execution_count": 16,
   "metadata": {
    "collapsed": false
   },
   "outputs": [
    {
     "name": "stdout",
     "output_type": "stream",
     "text": [
      "Με είσοδο το TSI ως plaintext και FSQ ως ciphertext η συνάρτηση κρυπτανάλυσης επιστρέφει το κλειδί (6, 19, 2)\n",
      "\n",
      "Για επιβεβαίωση το TSI κρυπτογραφείται σε FSQ\n",
      "και το FSQ αποκρυπτογραφείται σε TSI\n"
     ]
    }
   ],
   "source": [
    "m = 26\n",
    "Z26 = IntegerModRing(m)\n",
    "\n",
    "plaintext = \"TSI\"    # από το πάνω ερώτημα\n",
    "ciphertext = \"FSQ\"   # από το πάνω ερώτημα\n",
    "  \n",
    "def custom_affine_analysis(plaintext,ciphertext):\n",
    "    p = str2lst(plaintext) #p1=21, p2=8, p3=15  \n",
    "    c = str2lst(ciphertext) #c1=4, c2=20, c3=12\n",
    "\n",
    "    # c1=a*1+bp1+c and c2=a*2+bp2+c and c3=a*3+bp3+c\n",
    "    # 4=a+21b+c    and 20=2a+8b+c   and 12=3a+20b+c\n",
    "    A = matrix(Z26, 3, 3, [1, p[0], 1, 2, p[1], 1, 3, p[2], 1,])\n",
    "    b = vector(Z26, [c[0], c[1], c[2]])\n",
    "    #print A\n",
    "    #print b\n",
    "    key=A.solve_right(b)  \n",
    "    if (key[1] == 0): # Περιορισμός από εκφώνηση b<>0.\n",
    "            return \"Invalid key\"\n",
    "    return key\n",
    "    \n",
    "key = custom_affine_analysis(plaintext,ciphertext)\n",
    "print \"Με είσοδο το\", plaintext, \"ως plaintext και\", ciphertext, \"ως ciphertext η συνάρτηση κρυπτανάλυσης επιστρέφει το κλειδί\", key\n",
    "print \"\\nΓια επιβεβαίωση το\", plaintext, \"κρυπτογραφείται σε\", custom_affine_enc(plaintext, ZZ(key[0]), ZZ(key[1]), ZZ(key[2]))\n",
    "print \"και το\", ciphertext, \"αποκρυπτογραφείται σε\", custom_affine_dec(ciphertext, ZZ(key[0]), ZZ(key[1]), ZZ(key[2]))\n",
    "#key[0] = 7"
   ]
  },
  {
   "cell_type": "markdown",
   "metadata": {},
   "source": [
    "### Άσκηση 7\n",
    "### Κρυπταλγόριθμος Hill (Hill Cipher)"
   ]
  },
  {
   "cell_type": "markdown",
   "metadata": {},
   "source": [
    "Έστω $m \\geq 2$ ακέραιος και $\\mathcal{K}=\\{αντιστρέψιμοι\\ πίνακες\\ m \\times m\\ επί\\ του\\ \\mathbb{Z}_n\\}$. Για ένα κλειδί $K$, ορίζουμε:\n",
    "$$e_K(p) = Kp \\bmod n$$\n",
    "και\n",
    "$$d_K(c)= K^{-1}c \\bmod n$$\n",
    "όπου $(p, c) \\in \\mathbb{Z}_n$, ειδική περίπτωση $n=26$ (αγγλικό αλφάβητο).\n",
    "\n",
    "1. Ποια από τα παρακάτω κλειδιά είναι έγκυρα για το κρυπτοσύστημα Hill; Υπόδειξη: για καθένα από τα υποψήφια κλειδιά βρίσκουμε την ορίζουσα $det(K_i)$ και για να υπάρχει αντίστροφος, θα πρέπει να ισχύει $gcd(det(K_i), 26) = 1$.\n",
    "$$\n",
    "K_1=\\begin{bmatrix}\n",
    "2 & 5 \\\\\n",
    "5 & 4\n",
    "\\end{bmatrix},\\ \n",
    "K_2=\\begin{bmatrix}\n",
    "3 & 16 \\\\\n",
    "6 & 8\n",
    "\\end{bmatrix}\n",
    "$$\n",
    "$$\n",
    "K_3=\\begin{bmatrix}\n",
    "11 & 12 & 1 \\\\\n",
    "4 & 2 & 23 \\\\\n",
    "17 & 9 & 15\n",
    "\\end{bmatrix},\\\n",
    "K_4=\\begin{bmatrix}\n",
    "1 & 3 & 5 \\\\\n",
    "21 & 7 & 6 \\\\\n",
    "2 & 12 & 2\n",
    "\\end{bmatrix}\n",
    "$$\n",
    "\n",
    "2. Κρυπτογραφήστε το απλό κείμενο \n",
    "$$WITHDRAWONEHUNDREDDOLLARS$$\n",
    "με το κρυπτοσύστημα Hill και καθένα από τα έγκυρα κλειδιά του προηγούμενου ερωτήματος.\n",
    "\n",
    "3. Υπολογίστε τα κλειδιά αποκρυπτογράφησης για καθένα από τα έγκυρα κλειδιά του προηγούμενου ερωτήματος και προβείτε στην πράξη αποκρυπτογράφησης.\n",
    "\n",
    "4. Για ένα από τα έγκυρα αλλάξτε ένα γράμμα στο απλό κείμενο και συγκρίνετε τα κρυπτοκείμενα για τις δύο περιπτώσεις απλού κειμένου. Τί παρατηρείτε; Εξηγήστε κατάλληλα."
   ]
  },
  {
   "cell_type": "markdown",
   "metadata": {},
   "source": [
    "### Απάντηση"
   ]
  },
  {
   "cell_type": "markdown",
   "metadata": {},
   "source": [
    "### Ερώτημα 1"
   ]
  },
  {
   "cell_type": "code",
   "execution_count": 17,
   "metadata": {
    "collapsed": false
   },
   "outputs": [
    {
     "name": "stdout",
     "output_type": "stream",
     "text": [
      "Valid Key\n",
      "Not Valid Key\n",
      "Valid Key\n",
      "Not Valid Key\n"
     ]
    }
   ],
   "source": [
    "m = 26\n",
    "Z26 = IntegerModRing(m)\n",
    "\n",
    "K1 = matrix (Z26, 2, 2, [2, 5, 5, 4])\n",
    "K2 = matrix (Z26, 2, 2, [3, 16, 6, 8])\n",
    "K3 = matrix (Z26, 3, 3, [11, 12, 1, 4, 2, 23, 17, 9, 15])\n",
    "K4 = matrix (Z26, 3, 3, [1, 3, 5, 21, 7, 6, 2, 12, 2])\n",
    "\n",
    "def check_valid(K):\n",
    "    if (gcd(det(K),26) == 1):\n",
    "        return \"Valid Key\"\n",
    "    return \"Not Valid Key\"\n",
    "\n",
    "print check_valid(K1) \n",
    "print check_valid(K2)\n",
    "print check_valid(K3)\n",
    "print check_valid(K4)\n"
   ]
  },
  {
   "cell_type": "markdown",
   "metadata": {},
   "source": [
    "### Τα κλειδιά K1 και K3 είναι έγκυρα, ενώ τα κλειδιά K2 και K4 δεν είναι έγκυρα."
   ]
  },
  {
   "cell_type": "markdown",
   "metadata": {},
   "source": [
    "### Ερώτημα 2, 3 και 4"
   ]
  },
  {
   "cell_type": "code",
   "execution_count": 18,
   "metadata": {
    "collapsed": false
   },
   "outputs": [
    {
     "name": "stdout",
     "output_type": "stream",
     "text": [
      "Encryption:  WITHDRAWONEHUNDREDDOLLARSZ becomes --> GMVTNFGKPSRWBWNFXGYTZVHQFI with K1\n",
      "Decryption:  GMVTNFGKPSRWBWNFXGYTZVHQFI becomes --> WITHDRAWONEHUNDREDDOLLARSZ with K1\n",
      "\n",
      "\n",
      "Encryption:  WITHDRAWONEHUNDREDDOLLARSZZ becomes --> ZJXOJTOOOSTCLHAUFYQHWUZGVXG with K3\n",
      "Decryption:  ZJXOJTOOOSTCLHAUFYQHWUZGVXG becomes --> WITHDRAWONEHUNDREDDOLLARSZZ with K3\n",
      "\n",
      "Αντίστροφο κλειδί για το K1\n",
      "[12 11]\n",
      "[11  6]\n",
      "\n",
      "Αντίστροφο κλειδί για το K3\n",
      "[21 15 12]\n",
      "[ 7  8 15]\n",
      "[24 25  0]\n",
      "\n",
      "\n",
      "Encryption:  WITHDRIWONEHUNDREDDOLLARSZZ becomes --> ZJXOJTYGWSTCLHAUFYQHWUZGVXG with K3 <<WITHDR-A-W... --> WITHDR-I-W...>>\n",
      "Decryption:  ZJXOJTYGWSTCLHAUFYQHWUZGVXG becomes --> WITHDRIWONEHUNDREDDOLLARSZZ with K3 <<...-OOO-ST... --> ...-YGW-ST...>>\n",
      "Η αλλαγή ενός γράμματος στο αρχικό κείμενο έφερε την αλλαγή σε 3 χαρακτήρες στο κρυπτοκείμενο.\n"
     ]
    }
   ],
   "source": [
    "m = \"WITHDRAWONEHUNDREDDOLLARS\" #len=25\n",
    "\n",
    "def Hill_enc(m, K):\n",
    "    cols = len(K[0])\n",
    "    if (len(m)%cols != 0 ):\n",
    "        print 'The length of m = ' + m + ' must be a multiple of',  cols, \"(current length =\", len(m),\")\"\n",
    "        return \"false\"\n",
    "    H = HillCryptosystem(AlphabeticStrings(), cols)\n",
    "    P = H.encoding(m)\n",
    "    return H.enciphering(K, P)\n",
    "\n",
    "def Hill_dec(c, K):\n",
    "    H = HillCryptosystem(AlphabeticStrings(), len(K[0]))\n",
    "    P = H.encoding(c)\n",
    "    return H.deciphering(K, P)\n",
    "\n",
    "\n",
    "# Με το κλειδί K1\n",
    "m = \"WITHDRAWONEHUNDREDDOLLARSZ\" # Προσθέτω ένα γράμμα για να ταιριάζει το μήκος του.\n",
    "ctx = str(Hill_enc(m, K1))\n",
    "if (ctx != \"false\"):\n",
    "    print \"Encryption: \", m, \"becomes -->\", ctx, \"with K1\"\n",
    "    print \"Decryption: \", ctx, \"becomes -->\", Hill_dec(ctx, K1), \"with K1\"\n",
    "else:\n",
    "    print \"Check the length of \", m\n",
    "    \n",
    "##################################################\n",
    "\n",
    "# Με το κλειδί K3\n",
    "m = \"WITHDRAWONEHUNDREDDOLLARSZZ\" # Προσθέτω δύο γράμματα για να ταιριάζει το μήκος του.\n",
    "ctx = str(Hill_enc(m, K3))\n",
    "if (ctx != \"false\"):\n",
    "    print \"\\n\\nEncryption: \", m, \"becomes -->\", ctx, \"with K3\"\n",
    "    print \"Decryption: \", ctx, \"becomes -->\", Hill_dec(ctx, K3), \"with K3\"\n",
    "else:\n",
    "    print \"Check the length of \", m, len(m)\n",
    "    \n",
    "##################################################\n",
    "\n",
    "# Υπολογισμός αντίστροφων κλειδιών για K1 και K3\n",
    "print \"\\nΑντίστροφο κλειδί για το K1\\n\", K1.inverse()\n",
    "print \"\\nΑντίστροφο κλειδί για το K3\\n\", K3.inverse()\n",
    "\n",
    "##################################################\n",
    "\n",
    "# Αν αλλάξω ένα γράμμα \n",
    "m = \"WITHDRIWONEHUNDREDDOLLARSZZ\"\n",
    "ctx = str(Hill_enc(m, K3))\n",
    "if (ctx != \"false\"):\n",
    "    print \"\\n\\nEncryption: \", m, \"becomes -->\", ctx, \"with K3\", \"<<WITHDR-A-W... --> WITHDR-I-W...>>\"\n",
    "    print \"Decryption: \", ctx, \"becomes -->\", Hill_dec(ctx, K3), \"with K3\", \"<<...-OOO-ST... --> ...-YGW-ST...>>\"\n",
    "    print \"Η αλλαγή ενός γράμματος στο αρχικό κείμενο έφερε την αλλαγή σε 3 χαρακτήρες στο κρυπτοκείμενο.\"\n",
    "else:\n",
    "    print \"Check the length of \", m, len(m)"
   ]
  },
  {
   "cell_type": "markdown",
   "metadata": {},
   "source": [
    "### Άσκηση 8\n",
    "### Κρυπταλγόριθμος γινομένου (Product Cipher)"
   ]
  },
  {
   "cell_type": "markdown",
   "metadata": {},
   "source": [
    "Έστω ότι $\\mathcal{P} = \\mathcal{C} = \\mathcal{K}$ είναι το σύνολο όλων των δυαδικών συμβολοσειρών μήκους έξι. Το πλήθος των στοιχείων του $\\mathcal{M}$ είναι $2^6 = 64$. Έστω ότι $p = (p_1 p_2 \\ldots p_6)$ και ορίζουμε:\n",
    "$$E_{k_1}(p) = p \\oplus k,\\ όπου\\ k \\in \\mathcal{K}$$\n",
    "και\n",
    "$$E_{2}(p) = (p_4 p_5 p_6 p_1 p_2 p_3)$$\n",
    "$E_{k_1}$ είναι ένας κρυπταλγόριθμος πολυαλφαβητικής αντικατάστασης και $E_2$ είναι ένας κρυπταλγόριθμος αναδιάταξης (που δεν περιλαμβάνει το κλειδί). Το γινόμενο $E_{k_1}Ε_2$ είναι ένας γύρος. Μια αντικατάσταση σε έναν γύρο λέγεται ότι προσθέτει σύγχυση στη διαδικασία της κρυπτογράφησης, ενώ μια αναδιάταξη λέγεται ότι προσθέτει διάχυση.\n",
    "\n",
    "Κρυπτογραφήστε το μήνυμα $p = 35$ αν το κλειδί είναι $k = 42$ και η αναδιάξαξη $(p_4 p_2 p_6 p_5 p_3 p_1)$."
   ]
  },
  {
   "cell_type": "markdown",
   "metadata": {},
   "source": [
    "### Απάντηση"
   ]
  },
  {
   "cell_type": "code",
   "execution_count": 19,
   "metadata": {
    "collapsed": false
   },
   "outputs": [
    {
     "name": "stdout",
     "output_type": "stream",
     "text": [
      "Κρυπτογράφηση του 35 με κλειδί 42 \n",
      "Αποτέλεσμα 117\n"
     ]
    }
   ],
   "source": [
    "p = 35 \n",
    "k = 42\n",
    "\n",
    "def Ek1 (p, k):\n",
    "    # Δέχεται ως είσοδο plaintext και key \n",
    "    # και κάνει πράξη XOR μεταξύ τους.\n",
    "    # Επιστρέφει το αποτέλεσμα στο δεκαδικό.\n",
    "    res = p ^^ k\n",
    "    return res\n",
    "\n",
    "def Ek2(P):\n",
    "    # Κάνει permutation τα bit του P με βάση το (p4 p2 p6 p5 p3 p1)\n",
    "    # επιστρέφει το αποτέλεσμα στο δεκαδικό.\n",
    "    permut = [4, 2, 6, 5, 3, 1]\n",
    "    So = P[permut[0]-1] \n",
    "    for i in range (1, len(permut)):\n",
    "        So += P[permut[i]-1]\n",
    "    return int (So , 2)\n",
    "\n",
    "\n",
    "ek1 = Ek1(p,k)\n",
    "\n",
    "# Μετατροπή του p σε binary\n",
    "P = \"{0:b}\".format(p)\n",
    "ek2 = Ek2(P)\n",
    "\n",
    "ctx = ek1 * ek2\n",
    "print \"Κρυπτογράφηση του\", p, \"με κλειδί\", k, \"\\nΑποτέλεσμα\", ctx\n"
   ]
  },
  {
   "cell_type": "markdown",
   "metadata": {},
   "source": [
    "### Άσκηση 9\n",
    "### Κρυπτοσύστημα Pohlig - Hellman"
   ]
  },
  {
   "cell_type": "markdown",
   "metadata": {},
   "source": [
    "Οι πράξεις στο Pohlig-Hellman γίνονται στην ομάδα $\\mathbb{Z}_p^*$ (δηλ. $modulo\\ p$), όπου $p$ είναι μεγάλος πρώτος. Η κρυπτογράφηση και αποκρυπτογράφηση είναι απλά ύψωση σε δύναμη στην ομάδα αυτή. Συγκεκριμένα, με δεδομένα το μυστικό κλειδί $e$ της Αlice και το μυστικό κλειδί $d$ του Βob, γράφουμε:\n",
    "$$y=e(x) = x^e \\bmod p$$\n",
    "και\n",
    "$$x=d(y) = y^d \\bmod p$$\n",
    "όπου $(x, y) \\in \\mathbb{Z}_p^*$. Καλούμε τις $e(\\cdot)$ και $d(\\cdot)$ πράξεις κρυπτογράφησης και αποκρυπτογράφησης, αντίστοιχα.\n",
    "1. Χρησιμοποιώντας τον πρώτο $p = 2621$ και κλειδί κρυπτογράφησης $e = 7$, κρυπτογραφήστε και στη συνέχεια αποκρυπτογραφήστε το μήνυμα **Sweet Dreams**.\n",
    "2. Επαναλάβετε την κρυπτογράφηση και αποκρυπτογράφηση του **Sweet Dreams** χρησιμοποιώντας τον πρώτο:\n",
    "$$p = 21541033763111943897787668053098572287827255897035375494225236241256411370209886682798862632165882215899853230377150864692153694285370985846854171896112683$$\n",
    "και κλειδί κρυπτογράφησης:\n",
    "$$e = 5955125003146395801540354002489919669069919368587558405025377540963987507490482751703678501746367110253640937139193038507019616229739293164842782598297457$$"
   ]
  },
  {
   "cell_type": "markdown",
   "metadata": {},
   "source": [
    "### Απάντηση"
   ]
  },
  {
   "cell_type": "markdown",
   "metadata": {},
   "source": [
    "### Ερώτημα 1"
   ]
  },
  {
   "cell_type": "code",
   "execution_count": 27,
   "metadata": {
    "collapsed": false
   },
   "outputs": [
    {
     "name": "stdout",
     "output_type": "stream",
     "text": [
      "Κρυπτογράφηση του Sweet Dreams με κλειδί 7 \n",
      "\n",
      "\n",
      "Encoded: [83, 119, 101, 101, 116, 32, 68, 114, 101, 97, 109, 115]\n",
      "c = [886, 1223, 134, 134, 1267, 968, 2392, 2382, 134, 331, 541, 1022] \n",
      "\n",
      "\n",
      "Αντίστροφος του κλειδιού 7 = 1123 \n",
      "\n",
      "\n",
      "Decoded: [83, 119, 101, 101, 116, 32, 68, 114, 101, 97, 109, 115]\n",
      "Plaintext = Sweet Dreams\n",
      "\n",
      "\n",
      "################ Επανάληψη κρυπτογράφησης ################\n",
      "\n",
      "με p = 21541033763111943897787668053098572287827255897035375494225236241256411370209886682798862632165882215899853230377150864692153694285370985846854171896112683 \n",
      "\n",
      "και e = 5955125003146395801540354002489919669069919368587558405025377540963987507490482751703678501746367110253640937139193038507019616229739293164842782598297457 \n",
      "\n",
      "\n",
      "Κρυπτογράφηση του Sweet Dreams με κλειδί 5955125003146395801540354002489919669069919368587558405025377540963987507490482751703678501746367110253640937139193038507019616229739293164842782598297457 \n",
      "\n",
      "\n",
      "Encoded: [83, 119, 101, 101, 116, 32, 68, 114, 101, 97, 109, 115]\n",
      "c = [7464645397009470277153214477855553986490192672177580654468581310761977824200933453251632188016025780143853636749355439960152124300490493977636889418234565, 16546803155902180042152117985858268661817377188675141381770453799182499204270363939447120568967209289274984771761917877199536100164818426548367823409809439, 2684549017723602144658242180870125749023640136218316648833818355487303926081514636310805485579571490771452262134105723798014020421646222654945307311851727, 2684549017723602144658242180870125749023640136218316648833818355487303926081514636310805485579571490771452262134105723798014020421646222654945307311851727, 8545927620821798236920670437450682141566834732143066286718802476805418126859605531045168194637097671132798222496556648167612146284853114504264302705283035, 23897659977679252537914087298044799841950231322365542642151394137264176545948735531921661837705582207714151617161308474642740632889472201981124545646055, 12094583022175421637770915360785262308477769512592831363542064933034315856692189207957253369081334003673275173386368282140410358689780642166151845607732124, 20510897031347845438988998691691918894181375823979948370987484420431414457665483263220736852103658826100496411606565738870891256588373755242428552953439168, 2684549017723602144658242180870125749023640136218316648833818355487303926081514636310805485579571490771452262134105723798014020421646222654945307311851727, 21180812609540879066323373193223194161463014461375453350677165538861144959632521085932830000580079926683101914638322403726134714680085689599767876909218962, 11108391603395666198802266871772899157898948370168677278300766787477098423590197232252309333472118546416353804540742444860824065471944076520365323858866623, 13131927209686936760814446240095325177582200637962452289367600168161538824039867533495519078025043955041129114235187223992004451608370001716464662036571161] \n",
      "\n",
      "\n",
      "Αντίστροφος του κλειδιού 5955125003146395801540354002489919669069919368587558405025377540963987507490482751703678501746367110253640937139193038507019616229739293164842782598297457 = 15340044065244833670647644811468021874266829175114786528944732466278077433991091066770854473804824828276044576431140994523394103329279622120891331252329251 \n",
      "\n",
      "\n",
      "Decoded: [83, 119, 101, 101, 116, 32, 68, 114, 101, 97, 109, 115]\n",
      "Plaintext = Sweet Dreams\n"
     ]
    }
   ],
   "source": [
    "p = 2621\n",
    "Zp = IntegerModRing(p)\n",
    "e = 7\n",
    "m = \"Sweet Dreams\"\n",
    "#m = \"SWEETDREAMSANDMERRYCHRISTMAS\"\n",
    "\n",
    "\n",
    "def PH(m, p, e):\n",
    "    print \"Κρυπτογράφηση του\", m, \"με κλειδί\", e, \"\\n\\n\"\n",
    "    # Κωδικοποίηση \n",
    "    ms = map(ord, m)\n",
    "    print \"Encoded:\", ms\n",
    "    \n",
    "    # Κρυπτογράφηση\n",
    "    #c = [(i^e)%p for i in encoded] \n",
    "    c = [power_mod(i, e, p) for i in ms]\n",
    "    print \"c =\", c, \"\\n\\n\"\n",
    "\n",
    "    # Αντιστροφος του κλειδιού\n",
    "    inv_e = inverse_mod(e, p-1) \n",
    "    print \"Αντίστροφος του κλειδιού\",e ,\"=\", inv_e, \"\\n\\n\" \n",
    "\n",
    "    # Αποκρυπτογράφηση\n",
    "    #msg = [(i^inv_e)%p for i in c] \n",
    "    msg = [power_mod(i, inv_e, p) for i in c]\n",
    "    print \"Decoded:\", msg\n",
    "    \n",
    "    # Αποκωδικοποίηση\n",
    "    pln = map(chr, msg)\n",
    "    plnready = ''.join(pln)\n",
    "    \n",
    "    print \"Plaintext =\", plnready\n",
    "\n",
    "\n",
    "PH(m, p, e)\n",
    "\n",
    "p = 21541033763111943897787668053098572287827255897035375494225236241256411370209886682798862632165882215899853230377150864692153694285370985846854171896112683\n",
    "e = 5955125003146395801540354002489919669069919368587558405025377540963987507490482751703678501746367110253640937139193038507019616229739293164842782598297457\n",
    "\n",
    "print \"\\n\\n################ Επανάληψη κρυπτογράφησης ################\\n\\nμε p =\", p, \"\\n\\nκαι e =\", e,\"\\n\\n\"\n",
    "PH(m, p, e)\n"
   ]
  },
  {
   "cell_type": "markdown",
   "metadata": {
    "collapsed": true
   },
   "source": [
    "### Άσκηση 10\n",
    "1. Πόσοι είναι οι πρώτοι αριθμοί στο διάστημα $[0 \\ldots 1000]$ ?\n",
    "2. Υπολογίστε τους $\\phi(42), \\phi(420), \\phi(4200)$ και βρείτε ποιοι είναι.\n",
    "3. Βρείτε 4 λύσεις για $\\phi(n)=16$.\n",
    "4. Στην ομάδα $\\mathbb{Z}_{40}$ βρείτε όλα τα στοιχεία τάξης $10$.\n",
    "5. Στην ομάδα $\\mathbb{Z}^*_{45}$ βρείτε ένα στοιχείο τάξης $3$ και μια υποομάδα τάξης $6$.\n",
    "6. Να εξετάσετε αν οι ομάδες $\\mathbb{Z}^*_{10}$ και $\\mathbb{Z}^*_{19}$ είναι κυκλικές, κι αν ναι, δώστε έναν τουλάχιστο γεννήτορά τους:"
   ]
  },
  {
   "cell_type": "markdown",
   "metadata": {},
   "source": [
    "### Απάντηση"
   ]
  },
  {
   "cell_type": "markdown",
   "metadata": {},
   "source": [
    "### Ερώτημα 1"
   ]
  },
  {
   "cell_type": "code",
   "execution_count": 21,
   "metadata": {
    "collapsed": false
   },
   "outputs": [
    {
     "name": "stdout",
     "output_type": "stream",
     "text": [
      "Πρώτοι στο διάσημα [0,1000] --> 168\n"
     ]
    }
   ],
   "source": [
    "# Πόσοι είναι οι πρώτοι αριθμοί στο διάστημα  [0…1000]?\n",
    "\n",
    "print \"Πρώτοι στο διάσημα [0,1000] -->\", len(prime_range(1000)) "
   ]
  },
  {
   "cell_type": "markdown",
   "metadata": {},
   "source": [
    "### Ερώτημα 2"
   ]
  },
  {
   "cell_type": "code",
   "execution_count": 22,
   "metadata": {
    "collapsed": false
   },
   "outputs": [
    {
     "name": "stdout",
     "output_type": "stream",
     "text": [
      "Για n = 42, φ(n) = 12 και οι αριθμοί είναι --> [1, 5, 11, 13, 17, 19, 23, 25, 29, 31, 37, 41]\n",
      "\n",
      "\n",
      "\t----------------------------------------------------------------------\n",
      "\n",
      "Για n = 420, φ(n) = 96 και οι αριθμοί είναι --> [1, 11, 13, 17, 19, 23, 29, 31, 37, 41, 43, 47, 53, 59, 61, 67, 71, 73, 79, 83, 89, 97, 101, 103, 107, 109, 113, 121, 127, 131, 137, 139, 143, 149, 151, 157, 163, 167, 169, 173, 179, 181, 187, 191, 193, 197, 199, 209, 211, 221, 223, 227, 229, 233, 239, 241, 247, 251, 253, 257, 263, 269, 271, 277, 281, 283, 289, 293, 299, 307, 311, 313, 317, 319, 323, 331, 337, 341, 347, 349, 353, 359, 361, 367, 373, 377, 379, 383, 389, 391, 397, 401, 403, 407, 409, 419]\n",
      "\n",
      "\n",
      "\t----------------------------------------------------------------------\n",
      "\n",
      "Για n = 4200, φ(n) = 960 και οι αριθμοί είναι --> [1, 11, 13, 17, 19, 23, 29, 31, 37, 41, 43, 47, 53, 59, 61, 67, 71, 73, 79, 83, 89, 97, 101, 103, 107, 109, 113, 121, 127, 131, 137, 139, 143, 149, 151, 157, 163, 167, 169, 173, 179, 181, 187, 191, 193, 197, 199, 209, 211, 221, 223, 227, 229, 233, 239, 241, 247, 251, 253, 257, 263, 269, 271, 277, 281, 283, 289, 293, 299, 307, 311, 313, 317, 319, 323, 331, 337, 341, 347, 349, 353, 359, 361, 367, 373, 377, 379, 383, 389, 391, 397, 401, 403, 407, 409, 419, 421, 431, 433, 437, 439, 443, 449, 451, 457, 461, 463, 467, 473, 479, 481, 487, 491, 493, 499, 503, 509, 517, 521, 523, 527, 529, 533, 541, 547, 551, 557, 559, 563, 569, 571, 577, 583, 587, 589, 593, 599, 601, 607, 611, 613, 617, 619, 629, 631, 641, 643, 647, 649, 653, 659, 661, 667, 671, 673, 677, 683, 689, 691, 697, 701, 703, 709, 713, 719, 727, 731, 733, 737, 739, 743, 751, 757, 761, 767, 769, 773, 779, 781, 787, 793, 797, 799, 803, 809, 811, 817, 821, 823, 827, 829, 839, 841, 851, 853, 857, 859, 863, 869, 871, 877, 881, 883, 887, 893, 899, 901, 907, 911, 913, 919, 923, 929, 937, 941, 943, 947, 949, 953, 961, 967, 971, 977, 979, 983, 989, 991, 997, 1003, 1007, 1009, 1013, 1019, 1021, 1027, 1031, 1033, 1037, 1039, 1049, 1051, 1061, 1063, 1067, 1069, 1073, 1079, 1081, 1087, 1091, 1093, 1097, 1103, 1109, 1111, 1117, 1121, 1123, 1129, 1133, 1139, 1147, 1151, 1153, 1157, 1159, 1163, 1171, 1177, 1181, 1187, 1189, 1193, 1199, 1201, 1207, 1213, 1217, 1219, 1223, 1229, 1231, 1237, 1241, 1243, 1247, 1249, 1259, 1261, 1271, 1273, 1277, 1279, 1283, 1289, 1291, 1297, 1301, 1303, 1307, 1313, 1319, 1321, 1327, 1331, 1333, 1339, 1343, 1349, 1357, 1361, 1363, 1367, 1369, 1373, 1381, 1387, 1391, 1397, 1399, 1403, 1409, 1411, 1417, 1423, 1427, 1429, 1433, 1439, 1441, 1447, 1451, 1453, 1457, 1459, 1469, 1471, 1481, 1483, 1487, 1489, 1493, 1499, 1501, 1507, 1511, 1513, 1517, 1523, 1529, 1531, 1537, 1541, 1543, 1549, 1553, 1559, 1567, 1571, 1573, 1577, 1579, 1583, 1591, 1597, 1601, 1607, 1609, 1613, 1619, 1621, 1627, 1633, 1637, 1639, 1643, 1649, 1651, 1657, 1661, 1663, 1667, 1669, 1679, 1681, 1691, 1693, 1697, 1699, 1703, 1709, 1711, 1717, 1721, 1723, 1727, 1733, 1739, 1741, 1747, 1751, 1753, 1759, 1763, 1769, 1777, 1781, 1783, 1787, 1789, 1793, 1801, 1807, 1811, 1817, 1819, 1823, 1829, 1831, 1837, 1843, 1847, 1849, 1853, 1859, 1861, 1867, 1871, 1873, 1877, 1879, 1889, 1891, 1901, 1903, 1907, 1909, 1913, 1919, 1921, 1927, 1931, 1933, 1937, 1943, 1949, 1951, 1957, 1961, 1963, 1969, 1973, 1979, 1987, 1991, 1993, 1997, 1999, 2003, 2011, 2017, 2021, 2027, 2029, 2033, 2039, 2041, 2047, 2053, 2057, 2059, 2063, 2069, 2071, 2077, 2081, 2083, 2087, 2089, 2099, 2101, 2111, 2113, 2117, 2119, 2123, 2129, 2131, 2137, 2141, 2143, 2147, 2153, 2159, 2161, 2167, 2171, 2173, 2179, 2183, 2189, 2197, 2201, 2203, 2207, 2209, 2213, 2221, 2227, 2231, 2237, 2239, 2243, 2249, 2251, 2257, 2263, 2267, 2269, 2273, 2279, 2281, 2287, 2291, 2293, 2297, 2299, 2309, 2311, 2321, 2323, 2327, 2329, 2333, 2339, 2341, 2347, 2351, 2353, 2357, 2363, 2369, 2371, 2377, 2381, 2383, 2389, 2393, 2399, 2407, 2411, 2413, 2417, 2419, 2423, 2431, 2437, 2441, 2447, 2449, 2453, 2459, 2461, 2467, 2473, 2477, 2479, 2483, 2489, 2491, 2497, 2501, 2503, 2507, 2509, 2519, 2521, 2531, 2533, 2537, 2539, 2543, 2549, 2551, 2557, 2561, 2563, 2567, 2573, 2579, 2581, 2587, 2591, 2593, 2599, 2603, 2609, 2617, 2621, 2623, 2627, 2629, 2633, 2641, 2647, 2651, 2657, 2659, 2663, 2669, 2671, 2677, 2683, 2687, 2689, 2693, 2699, 2701, 2707, 2711, 2713, 2717, 2719, 2729, 2731, 2741, 2743, 2747, 2749, 2753, 2759, 2761, 2767, 2771, 2773, 2777, 2783, 2789, 2791, 2797, 2801, 2803, 2809, 2813, 2819, 2827, 2831, 2833, 2837, 2839, 2843, 2851, 2857, 2861, 2867, 2869, 2873, 2879, 2881, 2887, 2893, 2897, 2899, 2903, 2909, 2911, 2917, 2921, 2923, 2927, 2929, 2939, 2941, 2951, 2953, 2957, 2959, 2963, 2969, 2971, 2977, 2981, 2983, 2987, 2993, 2999, 3001, 3007, 3011, 3013, 3019, 3023, 3029, 3037, 3041, 3043, 3047, 3049, 3053, 3061, 3067, 3071, 3077, 3079, 3083, 3089, 3091, 3097, 3103, 3107, 3109, 3113, 3119, 3121, 3127, 3131, 3133, 3137, 3139, 3149, 3151, 3161, 3163, 3167, 3169, 3173, 3179, 3181, 3187, 3191, 3193, 3197, 3203, 3209, 3211, 3217, 3221, 3223, 3229, 3233, 3239, 3247, 3251, 3253, 3257, 3259, 3263, 3271, 3277, 3281, 3287, 3289, 3293, 3299, 3301, 3307, 3313, 3317, 3319, 3323, 3329, 3331, 3337, 3341, 3343, 3347, 3349, 3359, 3361, 3371, 3373, 3377, 3379, 3383, 3389, 3391, 3397, 3401, 3403, 3407, 3413, 3419, 3421, 3427, 3431, 3433, 3439, 3443, 3449, 3457, 3461, 3463, 3467, 3469, 3473, 3481, 3487, 3491, 3497, 3499, 3503, 3509, 3511, 3517, 3523, 3527, 3529, 3533, 3539, 3541, 3547, 3551, 3553, 3557, 3559, 3569, 3571, 3581, 3583, 3587, 3589, 3593, 3599, 3601, 3607, 3611, 3613, 3617, 3623, 3629, 3631, 3637, 3641, 3643, 3649, 3653, 3659, 3667, 3671, 3673, 3677, 3679, 3683, 3691, 3697, 3701, 3707, 3709, 3713, 3719, 3721, 3727, 3733, 3737, 3739, 3743, 3749, 3751, 3757, 3761, 3763, 3767, 3769, 3779, 3781, 3791, 3793, 3797, 3799, 3803, 3809, 3811, 3817, 3821, 3823, 3827, 3833, 3839, 3841, 3847, 3851, 3853, 3859, 3863, 3869, 3877, 3881, 3883, 3887, 3889, 3893, 3901, 3907, 3911, 3917, 3919, 3923, 3929, 3931, 3937, 3943, 3947, 3949, 3953, 3959, 3961, 3967, 3971, 3973, 3977, 3979, 3989, 3991, 4001, 4003, 4007, 4009, 4013, 4019, 4021, 4027, 4031, 4033, 4037, 4043, 4049, 4051, 4057, 4061, 4063, 4069, 4073, 4079, 4087, 4091, 4093, 4097, 4099, 4103, 4111, 4117, 4121, 4127, 4129, 4133, 4139, 4141, 4147, 4153, 4157, 4159, 4163, 4169, 4171, 4177, 4181, 4183, 4187, 4189, 4199]\n"
     ]
    }
   ],
   "source": [
    "# Υπολογίστε τους  ϕ(42),ϕ(420),ϕ(4200) και βρείτε ποιοι είναι.\n",
    "\n",
    "def Euler(n):\n",
    "    # Η συνάρτηση βρίσκει το φ(n) και τους αριθμούς του.\n",
    "    phi = [k for k in range(1,n+1) if gcd(k,n)==1] # Βρίσκει σχετικά πρώτους αριθμούς με το n.\n",
    "    return phi\n",
    "\n",
    "print \"Για n = 42, φ(n) =\",euler_phi(42), \"και οι αριθμοί είναι -->\", Euler(42)\n",
    "print \"\\n\\n\\t----------------------------------------------------------------------\\n\"\n",
    "print \"Για n = 420, φ(n) =\",euler_phi(420), \"και οι αριθμοί είναι -->\", Euler(420)\n",
    "print \"\\n\\n\\t----------------------------------------------------------------------\\n\"\n",
    "print \"Για n = 4200, φ(n) =\",euler_phi(4200), \"και οι αριθμοί είναι -->\", Euler(4200)"
   ]
  },
  {
   "cell_type": "markdown",
   "metadata": {},
   "source": [
    "### Ερώτημα 3"
   ]
  },
  {
   "cell_type": "code",
   "execution_count": 23,
   "metadata": {
    "collapsed": false
   },
   "outputs": [
    {
     "name": "stdout",
     "output_type": "stream",
     "text": [
      "Λύση 1 --> 17\n",
      "Λύση 2 --> 32\n",
      "Λύση 3 --> 34\n",
      "Λύση 4 --> 40\n"
     ]
    }
   ],
   "source": [
    "# Βρείτε 4 λύσεις για  ϕ(n)=16.\n",
    "\n",
    "def checkEuler(n):\n",
    "    # Η συνάρτηση βρίσκει το φ(n) και τους αριθμούς του.\n",
    "    # επιστρέφει το φ(n).\n",
    "    phi = [k for k in range(1,n+1) if gcd(k,n)==1] # Βρίσκει σχετικά πρώτους αριθμούς με το n.\n",
    "    return len(phi)\n",
    "\n",
    "def find4Sols(n):\n",
    "    # Η συνάρτηση ψάχνει τέσσερις αριθμούς για τους οποίους\n",
    "    # το φ(n) τους ισούται με 16. Τυπώνει τους αριθμούς αυτούς.\n",
    "    count = 0\n",
    "    while (count < 4):\n",
    "        n += 1\n",
    "        if (checkEuler(n) == 16):\n",
    "            a = n\n",
    "            count += 1\n",
    "            print \"Λύση\",count,\"-->\", a\n",
    "            \n",
    "find4Sols(16)"
   ]
  },
  {
   "cell_type": "markdown",
   "metadata": {},
   "source": [
    "### Ερώτημα 4"
   ]
  },
  {
   "cell_type": "code",
   "execution_count": 24,
   "metadata": {
    "collapsed": false
   },
   "outputs": [
    {
     "name": "stdout",
     "output_type": "stream",
     "text": [
      "4 has order 10\n",
      "12 has order 10\n",
      "28 has order 10\n",
      "36 has order 10\n"
     ]
    }
   ],
   "source": [
    "#Στην ομάδα  ℤ40 βρείτε όλα τα στοιχεία τάξης  10.\n",
    "\n",
    "n = 40\n",
    "Z40 = IntegerModRing(n)\n",
    "\n",
    "for i in Z40:\n",
    "    if additive_order(i) == 10:\n",
    "        print i ,\"has order\", additive_order(i)\n"
   ]
  },
  {
   "cell_type": "markdown",
   "metadata": {},
   "source": [
    "### Ερώτημα 5"
   ]
  },
  {
   "cell_type": "code",
   "execution_count": 25,
   "metadata": {
    "collapsed": false
   },
   "outputs": [
    {
     "name": "stdout",
     "output_type": "stream",
     "text": [
      "Το 16 έχει τάξη 3\n",
      "Η ομάδα [1, 4, 16, 19, 31, 34] έχει τάξη 6 αφού και ο γεννήτοράς της, 4 έχει τάξη 6\n",
      "\n"
     ]
    }
   ],
   "source": [
    "#Στην ομάδα  ℤ∗45  βρείτε ένα στοιχείο τάξης  3  και μια υποομάδα τάξης  6 .\n",
    "\n",
    "n = 45\n",
    "Z45 = IntegerModRing(n)\n",
    "\n",
    "def Omada(n, g):\n",
    "    # Η συνάρτηση υπολογίζει την ομάδα με γεννήτορα\n",
    "    # το g, στο Zn.\n",
    "    # Επιστρέφει την ομάδα.\n",
    "    Z45 = IntegerModRing(n)\n",
    "    r = [(g^i)%n for i in Z45]\n",
    "    # Απαλοιφή διπλοτύπων\n",
    "    s = []\n",
    "    for i in r:\n",
    "        if i not in s:\n",
    "            s.append(i)\n",
    "    return s\n",
    "\n",
    "# στοιχείο τάξης  3\n",
    "for i in Z45:\n",
    "    if  (gcd(i,n)==1 and multiplicative_order(i) == 3):\n",
    "        print \"Το\", i, \"έχει τάξη 3\"\n",
    "        break\n",
    "\n",
    "# υποομάδα τάξης  6        \n",
    "for i in Z45:\n",
    "    if  (gcd(i,n)==1 and multiplicative_order(i) == 6):\n",
    "        print \"Η ομάδα\", Omada(n,i), \"έχει τάξη 6\", \"αφού και ο γεννήτοράς της,\",i, \"έχει τάξη 6\"\n",
    "        print \n",
    "        break\n",
    "\n",
    "# Η τάξη μιας υποομάδας ισούται με την τάξη του στοιχέιου που την παράγει(γεννήτορας)"
   ]
  },
  {
   "cell_type": "markdown",
   "metadata": {},
   "source": [
    "### Ερώτημα 6"
   ]
  },
  {
   "cell_type": "code",
   "execution_count": 26,
   "metadata": {
    "collapsed": false
   },
   "outputs": [
    {
     "name": "stdout",
     "output_type": "stream",
     "text": [
      "Ομάδα ℤ∗10\n",
      "Η ομάδα ℤ∗10 δεν είναι κυκλική καθώς από κανένα στοιχείο της δεν προκύπτουν όλα τα υπόλοιπα.\n",
      "\n",
      "Ομάδα ℤ∗19\n",
      "Ο γεννήτορας 2 δίνει όλα τα στοιχεία της ομάδας ℤ∗19: [1, 2, 4, 8, 16, 13, 7, 14, 9, 18, 17, 15, 11, 3, 6, 12, 5, 10] <<πλήθος στοιχείων ( 18 )>>\n",
      "Ο γεννήτορας 3 δίνει όλα τα στοιχεία της ομάδας ℤ∗19: [1, 3, 9, 8, 5, 15, 7, 2, 6, 18, 16, 10, 11, 14, 4, 12, 17, 13] <<πλήθος στοιχείων ( 18 )>>\n",
      "Ο γεννήτορας 10 δίνει όλα τα στοιχεία της ομάδας ℤ∗19: [1, 10, 5, 12, 6, 3, 11, 15, 17, 18, 9, 14, 7, 13, 16, 8, 4, 2] <<πλήθος στοιχείων ( 18 )>>\n",
      "Ο γεννήτορας 13 δίνει όλα τα στοιχεία της ομάδας ℤ∗19: [1, 13, 17, 12, 4, 14, 11, 10, 16, 18, 6, 2, 7, 15, 5, 8, 9, 3] <<πλήθος στοιχείων ( 18 )>>\n",
      "Ο γεννήτορας 14 δίνει όλα τα στοιχεία της ομάδας ℤ∗19: [1, 14, 6, 8, 17, 10, 7, 3, 4, 18, 5, 13, 11, 2, 9, 12, 16, 15] <<πλήθος στοιχείων ( 18 )>>\n",
      "Ο γεννήτορας 15 δίνει όλα τα στοιχεία της ομάδας ℤ∗19: [1, 15, 16, 12, 9, 2, 11, 13, 5, 18, 4, 3, 7, 10, 17, 8, 6, 14] <<πλήθος στοιχείων ( 18 )>>\n"
     ]
    }
   ],
   "source": [
    "# Να εξετάσετε αν οι ομάδες  ℤ∗10 και  ℤ∗19  είναι κυκλικές, \n",
    "# κι αν ναι, δώστε έναν τουλάχιστο γεννήτορά τους:\n",
    "\n",
    "# Ομάδα ℤ∗10\n",
    "n = 10\n",
    "Z10 = IntegerModRing(n)\n",
    "\n",
    "print \"Ομάδα ℤ∗10\"\n",
    "isCyclic = False\n",
    "for i in Z10:\n",
    "    if  (gcd(i,n)==1 and len(Omada(n,i)) == n-1 ) : # εξαιρείται το 0 άρα το μήκος θα πρέπει να είναι 9\n",
    "        g = Omada(n,i) # Η συνάρτηση ορίζεται στο προηγούμενο ερώτημα.\n",
    "        print \"Ο γεννήτορας\", i, \"δίνει όλα τα στοιχεία της ομάδας ℤ∗10:\", g, \"<<πλήθος στοιχείων (\", len(g), \")>>\"\n",
    "        isCyclic = True\n",
    "        #r = [(i^t)%n for t in Z10]\n",
    "        #print len(r), r\n",
    "\n",
    "if isCyclic == False:\n",
    "    print \"Η ομάδα ℤ∗10 δεν είναι κυκλική καθώς από κανένα στοιχείο της δεν προκύπτουν όλα τα υπόλοιπα.\\n\"\n",
    "\n",
    "# Ομάδα ℤ∗19        \n",
    "n = 19\n",
    "Z19 = IntegerModRing(n)\n",
    "\n",
    "print \"Ομάδα ℤ∗19\"\n",
    "for i in Z19:\n",
    "    if  (gcd(i,n)==1 and len(Omada(n,i)) == n-1 ) : # εξαιρείται το 0, άρα το μήκος θα πρέπει να είναι 18\n",
    "        g = Omada(n,i) # Η συνάρτηση ορίζεται στο προηγούμενο ερώτημα.\n",
    "        print \"Ο γεννήτορας\", i, \"δίνει όλα τα στοιχεία της ομάδας ℤ∗19:\", g, \"<<πλήθος στοιχείων (\", len(g), \")>>\""
   ]
  },
  {
   "cell_type": "code",
   "execution_count": null,
   "metadata": {
    "collapsed": false
   },
   "outputs": [],
   "source": []
  }
 ],
 "metadata": {
  "kernelspec": {
   "display_name": "SageMath 7.3",
   "language": "",
   "name": "sagemath"
  },
  "language_info": {
   "codemirror_mode": {
    "name": "ipython",
    "version": 2
   },
   "file_extension": ".py",
   "mimetype": "text/x-python",
   "name": "python",
   "nbconvert_exporter": "python",
   "pygments_lexer": "ipython2",
   "version": "2.7.10"
  }
 },
 "nbformat": 4,
 "nbformat_minor": 0
}
